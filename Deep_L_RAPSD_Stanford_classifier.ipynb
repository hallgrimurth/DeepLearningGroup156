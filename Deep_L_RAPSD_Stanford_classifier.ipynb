{
  "nbformat": 4,
  "nbformat_minor": 0,
  "metadata": {
    "colab": {
      "provenance": []
    },
    "kernelspec": {
      "name": "python3",
      "display_name": "Python 3"
    },
    "language_info": {
      "name": "python"
    },
    "widgets": {
      "application/vnd.jupyter.widget-state+json": {
        "1fde8ed69d2f44149ab83244a55e743e": {
          "model_module": "@jupyter-widgets/controls",
          "model_name": "HBoxModel",
          "model_module_version": "1.5.0",
          "state": {
            "_dom_classes": [],
            "_model_module": "@jupyter-widgets/controls",
            "_model_module_version": "1.5.0",
            "_model_name": "HBoxModel",
            "_view_count": null,
            "_view_module": "@jupyter-widgets/controls",
            "_view_module_version": "1.5.0",
            "_view_name": "HBoxView",
            "box_style": "",
            "children": [
              "IPY_MODEL_aa7d5c3e9aca47049bcc7da4da8859ae",
              "IPY_MODEL_ac4f57cb45a94b309754bead56c2ae0b",
              "IPY_MODEL_794fa43863604011bcb2468119186dd4"
            ],
            "layout": "IPY_MODEL_510874c8f3214614af8bd45f46e1d624"
          }
        },
        "aa7d5c3e9aca47049bcc7da4da8859ae": {
          "model_module": "@jupyter-widgets/controls",
          "model_name": "HTMLModel",
          "model_module_version": "1.5.0",
          "state": {
            "_dom_classes": [],
            "_model_module": "@jupyter-widgets/controls",
            "_model_module_version": "1.5.0",
            "_model_name": "HTMLModel",
            "_view_count": null,
            "_view_module": "@jupyter-widgets/controls",
            "_view_module_version": "1.5.0",
            "_view_name": "HTMLView",
            "description": "",
            "description_tooltip": null,
            "layout": "IPY_MODEL_67c21e28bff3476abf3700bf1499f586",
            "placeholder": "​",
            "style": "IPY_MODEL_fa26deadc839498d966d9d31c107bafc",
            "value": "Resolving data files: 100%"
          }
        },
        "ac4f57cb45a94b309754bead56c2ae0b": {
          "model_module": "@jupyter-widgets/controls",
          "model_name": "FloatProgressModel",
          "model_module_version": "1.5.0",
          "state": {
            "_dom_classes": [],
            "_model_module": "@jupyter-widgets/controls",
            "_model_module_version": "1.5.0",
            "_model_name": "FloatProgressModel",
            "_view_count": null,
            "_view_module": "@jupyter-widgets/controls",
            "_view_module_version": "1.5.0",
            "_view_name": "ProgressView",
            "bar_style": "success",
            "description": "",
            "description_tooltip": null,
            "layout": "IPY_MODEL_1f34b50a71dc4ac0a8175c1238b6b3ab",
            "max": 3120,
            "min": 0,
            "orientation": "horizontal",
            "style": "IPY_MODEL_05e8d91ee8a44d2494e5ecbbfda45d3a",
            "value": 3120
          }
        },
        "794fa43863604011bcb2468119186dd4": {
          "model_module": "@jupyter-widgets/controls",
          "model_name": "HTMLModel",
          "model_module_version": "1.5.0",
          "state": {
            "_dom_classes": [],
            "_model_module": "@jupyter-widgets/controls",
            "_model_module_version": "1.5.0",
            "_model_name": "HTMLModel",
            "_view_count": null,
            "_view_module": "@jupyter-widgets/controls",
            "_view_module_version": "1.5.0",
            "_view_name": "HTMLView",
            "description": "",
            "description_tooltip": null,
            "layout": "IPY_MODEL_03514b50078d46d684fb74b30044f4c0",
            "placeholder": "​",
            "style": "IPY_MODEL_d3a3f064ccff495b917e6955b3f72f92",
            "value": " 3120/3120 [00:00&lt;00:00, 41125.15it/s]"
          }
        },
        "510874c8f3214614af8bd45f46e1d624": {
          "model_module": "@jupyter-widgets/base",
          "model_name": "LayoutModel",
          "model_module_version": "1.2.0",
          "state": {
            "_model_module": "@jupyter-widgets/base",
            "_model_module_version": "1.2.0",
            "_model_name": "LayoutModel",
            "_view_count": null,
            "_view_module": "@jupyter-widgets/base",
            "_view_module_version": "1.2.0",
            "_view_name": "LayoutView",
            "align_content": null,
            "align_items": null,
            "align_self": null,
            "border": null,
            "bottom": null,
            "display": null,
            "flex": null,
            "flex_flow": null,
            "grid_area": null,
            "grid_auto_columns": null,
            "grid_auto_flow": null,
            "grid_auto_rows": null,
            "grid_column": null,
            "grid_gap": null,
            "grid_row": null,
            "grid_template_areas": null,
            "grid_template_columns": null,
            "grid_template_rows": null,
            "height": null,
            "justify_content": null,
            "justify_items": null,
            "left": null,
            "margin": null,
            "max_height": null,
            "max_width": null,
            "min_height": null,
            "min_width": null,
            "object_fit": null,
            "object_position": null,
            "order": null,
            "overflow": null,
            "overflow_x": null,
            "overflow_y": null,
            "padding": null,
            "right": null,
            "top": null,
            "visibility": null,
            "width": null
          }
        },
        "67c21e28bff3476abf3700bf1499f586": {
          "model_module": "@jupyter-widgets/base",
          "model_name": "LayoutModel",
          "model_module_version": "1.2.0",
          "state": {
            "_model_module": "@jupyter-widgets/base",
            "_model_module_version": "1.2.0",
            "_model_name": "LayoutModel",
            "_view_count": null,
            "_view_module": "@jupyter-widgets/base",
            "_view_module_version": "1.2.0",
            "_view_name": "LayoutView",
            "align_content": null,
            "align_items": null,
            "align_self": null,
            "border": null,
            "bottom": null,
            "display": null,
            "flex": null,
            "flex_flow": null,
            "grid_area": null,
            "grid_auto_columns": null,
            "grid_auto_flow": null,
            "grid_auto_rows": null,
            "grid_column": null,
            "grid_gap": null,
            "grid_row": null,
            "grid_template_areas": null,
            "grid_template_columns": null,
            "grid_template_rows": null,
            "height": null,
            "justify_content": null,
            "justify_items": null,
            "left": null,
            "margin": null,
            "max_height": null,
            "max_width": null,
            "min_height": null,
            "min_width": null,
            "object_fit": null,
            "object_position": null,
            "order": null,
            "overflow": null,
            "overflow_x": null,
            "overflow_y": null,
            "padding": null,
            "right": null,
            "top": null,
            "visibility": null,
            "width": null
          }
        },
        "fa26deadc839498d966d9d31c107bafc": {
          "model_module": "@jupyter-widgets/controls",
          "model_name": "DescriptionStyleModel",
          "model_module_version": "1.5.0",
          "state": {
            "_model_module": "@jupyter-widgets/controls",
            "_model_module_version": "1.5.0",
            "_model_name": "DescriptionStyleModel",
            "_view_count": null,
            "_view_module": "@jupyter-widgets/base",
            "_view_module_version": "1.2.0",
            "_view_name": "StyleView",
            "description_width": ""
          }
        },
        "1f34b50a71dc4ac0a8175c1238b6b3ab": {
          "model_module": "@jupyter-widgets/base",
          "model_name": "LayoutModel",
          "model_module_version": "1.2.0",
          "state": {
            "_model_module": "@jupyter-widgets/base",
            "_model_module_version": "1.2.0",
            "_model_name": "LayoutModel",
            "_view_count": null,
            "_view_module": "@jupyter-widgets/base",
            "_view_module_version": "1.2.0",
            "_view_name": "LayoutView",
            "align_content": null,
            "align_items": null,
            "align_self": null,
            "border": null,
            "bottom": null,
            "display": null,
            "flex": null,
            "flex_flow": null,
            "grid_area": null,
            "grid_auto_columns": null,
            "grid_auto_flow": null,
            "grid_auto_rows": null,
            "grid_column": null,
            "grid_gap": null,
            "grid_row": null,
            "grid_template_areas": null,
            "grid_template_columns": null,
            "grid_template_rows": null,
            "height": null,
            "justify_content": null,
            "justify_items": null,
            "left": null,
            "margin": null,
            "max_height": null,
            "max_width": null,
            "min_height": null,
            "min_width": null,
            "object_fit": null,
            "object_position": null,
            "order": null,
            "overflow": null,
            "overflow_x": null,
            "overflow_y": null,
            "padding": null,
            "right": null,
            "top": null,
            "visibility": null,
            "width": null
          }
        },
        "05e8d91ee8a44d2494e5ecbbfda45d3a": {
          "model_module": "@jupyter-widgets/controls",
          "model_name": "ProgressStyleModel",
          "model_module_version": "1.5.0",
          "state": {
            "_model_module": "@jupyter-widgets/controls",
            "_model_module_version": "1.5.0",
            "_model_name": "ProgressStyleModel",
            "_view_count": null,
            "_view_module": "@jupyter-widgets/base",
            "_view_module_version": "1.2.0",
            "_view_name": "StyleView",
            "bar_color": null,
            "description_width": ""
          }
        },
        "03514b50078d46d684fb74b30044f4c0": {
          "model_module": "@jupyter-widgets/base",
          "model_name": "LayoutModel",
          "model_module_version": "1.2.0",
          "state": {
            "_model_module": "@jupyter-widgets/base",
            "_model_module_version": "1.2.0",
            "_model_name": "LayoutModel",
            "_view_count": null,
            "_view_module": "@jupyter-widgets/base",
            "_view_module_version": "1.2.0",
            "_view_name": "LayoutView",
            "align_content": null,
            "align_items": null,
            "align_self": null,
            "border": null,
            "bottom": null,
            "display": null,
            "flex": null,
            "flex_flow": null,
            "grid_area": null,
            "grid_auto_columns": null,
            "grid_auto_flow": null,
            "grid_auto_rows": null,
            "grid_column": null,
            "grid_gap": null,
            "grid_row": null,
            "grid_template_areas": null,
            "grid_template_columns": null,
            "grid_template_rows": null,
            "height": null,
            "justify_content": null,
            "justify_items": null,
            "left": null,
            "margin": null,
            "max_height": null,
            "max_width": null,
            "min_height": null,
            "min_width": null,
            "object_fit": null,
            "object_position": null,
            "order": null,
            "overflow": null,
            "overflow_x": null,
            "overflow_y": null,
            "padding": null,
            "right": null,
            "top": null,
            "visibility": null,
            "width": null
          }
        },
        "d3a3f064ccff495b917e6955b3f72f92": {
          "model_module": "@jupyter-widgets/controls",
          "model_name": "DescriptionStyleModel",
          "model_module_version": "1.5.0",
          "state": {
            "_model_module": "@jupyter-widgets/controls",
            "_model_module_version": "1.5.0",
            "_model_name": "DescriptionStyleModel",
            "_view_count": null,
            "_view_module": "@jupyter-widgets/base",
            "_view_module_version": "1.2.0",
            "_view_name": "StyleView",
            "description_width": ""
          }
        },
        "413cd050205f49a6bec2d9e5bf5a30e7": {
          "model_module": "@jupyter-widgets/controls",
          "model_name": "HBoxModel",
          "model_module_version": "1.5.0",
          "state": {
            "_dom_classes": [],
            "_model_module": "@jupyter-widgets/controls",
            "_model_module_version": "1.5.0",
            "_model_name": "HBoxModel",
            "_view_count": null,
            "_view_module": "@jupyter-widgets/controls",
            "_view_module_version": "1.5.0",
            "_view_name": "HBoxView",
            "box_style": "",
            "children": [
              "IPY_MODEL_f437e1de55294dffa581a7b081511c41",
              "IPY_MODEL_a7eb40721acd4b9abc1578aafe503a8a",
              "IPY_MODEL_95520b21a2eb47eca546551660a27e55"
            ],
            "layout": "IPY_MODEL_0600275b68304340aa725c2cd6d9443f"
          }
        },
        "f437e1de55294dffa581a7b081511c41": {
          "model_module": "@jupyter-widgets/controls",
          "model_name": "HTMLModel",
          "model_module_version": "1.5.0",
          "state": {
            "_dom_classes": [],
            "_model_module": "@jupyter-widgets/controls",
            "_model_module_version": "1.5.0",
            "_model_name": "HTMLModel",
            "_view_count": null,
            "_view_module": "@jupyter-widgets/controls",
            "_view_module_version": "1.5.0",
            "_view_name": "HTMLView",
            "description": "",
            "description_tooltip": null,
            "layout": "IPY_MODEL_10f3fd2cb38e48e7a71807765276e56f",
            "placeholder": "​",
            "style": "IPY_MODEL_1f07a864aacf4a85a62b671151f2995b",
            "value": "Downloading data: 100%"
          }
        },
        "a7eb40721acd4b9abc1578aafe503a8a": {
          "model_module": "@jupyter-widgets/controls",
          "model_name": "FloatProgressModel",
          "model_module_version": "1.5.0",
          "state": {
            "_dom_classes": [],
            "_model_module": "@jupyter-widgets/controls",
            "_model_module_version": "1.5.0",
            "_model_name": "FloatProgressModel",
            "_view_count": null,
            "_view_module": "@jupyter-widgets/controls",
            "_view_module_version": "1.5.0",
            "_view_name": "ProgressView",
            "bar_style": "success",
            "description": "",
            "description_tooltip": null,
            "layout": "IPY_MODEL_b2308f79d58843fea03c2efef6e1795e",
            "max": 3120,
            "min": 0,
            "orientation": "horizontal",
            "style": "IPY_MODEL_51eaaf493c1443c693734aa61c163d41",
            "value": 3120
          }
        },
        "95520b21a2eb47eca546551660a27e55": {
          "model_module": "@jupyter-widgets/controls",
          "model_name": "HTMLModel",
          "model_module_version": "1.5.0",
          "state": {
            "_dom_classes": [],
            "_model_module": "@jupyter-widgets/controls",
            "_model_module_version": "1.5.0",
            "_model_name": "HTMLModel",
            "_view_count": null,
            "_view_module": "@jupyter-widgets/controls",
            "_view_module_version": "1.5.0",
            "_view_name": "HTMLView",
            "description": "",
            "description_tooltip": null,
            "layout": "IPY_MODEL_dcbd95534ba743a8875b795a94d0e649",
            "placeholder": "​",
            "style": "IPY_MODEL_76c7f4bb189e48c1bb85a98570aa6b70",
            "value": " 3120/3120 [00:00&lt;00:00,  6.74files/s]"
          }
        },
        "0600275b68304340aa725c2cd6d9443f": {
          "model_module": "@jupyter-widgets/base",
          "model_name": "LayoutModel",
          "model_module_version": "1.2.0",
          "state": {
            "_model_module": "@jupyter-widgets/base",
            "_model_module_version": "1.2.0",
            "_model_name": "LayoutModel",
            "_view_count": null,
            "_view_module": "@jupyter-widgets/base",
            "_view_module_version": "1.2.0",
            "_view_name": "LayoutView",
            "align_content": null,
            "align_items": null,
            "align_self": null,
            "border": null,
            "bottom": null,
            "display": null,
            "flex": null,
            "flex_flow": null,
            "grid_area": null,
            "grid_auto_columns": null,
            "grid_auto_flow": null,
            "grid_auto_rows": null,
            "grid_column": null,
            "grid_gap": null,
            "grid_row": null,
            "grid_template_areas": null,
            "grid_template_columns": null,
            "grid_template_rows": null,
            "height": null,
            "justify_content": null,
            "justify_items": null,
            "left": null,
            "margin": null,
            "max_height": null,
            "max_width": null,
            "min_height": null,
            "min_width": null,
            "object_fit": null,
            "object_position": null,
            "order": null,
            "overflow": null,
            "overflow_x": null,
            "overflow_y": null,
            "padding": null,
            "right": null,
            "top": null,
            "visibility": null,
            "width": null
          }
        },
        "10f3fd2cb38e48e7a71807765276e56f": {
          "model_module": "@jupyter-widgets/base",
          "model_name": "LayoutModel",
          "model_module_version": "1.2.0",
          "state": {
            "_model_module": "@jupyter-widgets/base",
            "_model_module_version": "1.2.0",
            "_model_name": "LayoutModel",
            "_view_count": null,
            "_view_module": "@jupyter-widgets/base",
            "_view_module_version": "1.2.0",
            "_view_name": "LayoutView",
            "align_content": null,
            "align_items": null,
            "align_self": null,
            "border": null,
            "bottom": null,
            "display": null,
            "flex": null,
            "flex_flow": null,
            "grid_area": null,
            "grid_auto_columns": null,
            "grid_auto_flow": null,
            "grid_auto_rows": null,
            "grid_column": null,
            "grid_gap": null,
            "grid_row": null,
            "grid_template_areas": null,
            "grid_template_columns": null,
            "grid_template_rows": null,
            "height": null,
            "justify_content": null,
            "justify_items": null,
            "left": null,
            "margin": null,
            "max_height": null,
            "max_width": null,
            "min_height": null,
            "min_width": null,
            "object_fit": null,
            "object_position": null,
            "order": null,
            "overflow": null,
            "overflow_x": null,
            "overflow_y": null,
            "padding": null,
            "right": null,
            "top": null,
            "visibility": null,
            "width": null
          }
        },
        "1f07a864aacf4a85a62b671151f2995b": {
          "model_module": "@jupyter-widgets/controls",
          "model_name": "DescriptionStyleModel",
          "model_module_version": "1.5.0",
          "state": {
            "_model_module": "@jupyter-widgets/controls",
            "_model_module_version": "1.5.0",
            "_model_name": "DescriptionStyleModel",
            "_view_count": null,
            "_view_module": "@jupyter-widgets/base",
            "_view_module_version": "1.2.0",
            "_view_name": "StyleView",
            "description_width": ""
          }
        },
        "b2308f79d58843fea03c2efef6e1795e": {
          "model_module": "@jupyter-widgets/base",
          "model_name": "LayoutModel",
          "model_module_version": "1.2.0",
          "state": {
            "_model_module": "@jupyter-widgets/base",
            "_model_module_version": "1.2.0",
            "_model_name": "LayoutModel",
            "_view_count": null,
            "_view_module": "@jupyter-widgets/base",
            "_view_module_version": "1.2.0",
            "_view_name": "LayoutView",
            "align_content": null,
            "align_items": null,
            "align_self": null,
            "border": null,
            "bottom": null,
            "display": null,
            "flex": null,
            "flex_flow": null,
            "grid_area": null,
            "grid_auto_columns": null,
            "grid_auto_flow": null,
            "grid_auto_rows": null,
            "grid_column": null,
            "grid_gap": null,
            "grid_row": null,
            "grid_template_areas": null,
            "grid_template_columns": null,
            "grid_template_rows": null,
            "height": null,
            "justify_content": null,
            "justify_items": null,
            "left": null,
            "margin": null,
            "max_height": null,
            "max_width": null,
            "min_height": null,
            "min_width": null,
            "object_fit": null,
            "object_position": null,
            "order": null,
            "overflow": null,
            "overflow_x": null,
            "overflow_y": null,
            "padding": null,
            "right": null,
            "top": null,
            "visibility": null,
            "width": null
          }
        },
        "51eaaf493c1443c693734aa61c163d41": {
          "model_module": "@jupyter-widgets/controls",
          "model_name": "ProgressStyleModel",
          "model_module_version": "1.5.0",
          "state": {
            "_model_module": "@jupyter-widgets/controls",
            "_model_module_version": "1.5.0",
            "_model_name": "ProgressStyleModel",
            "_view_count": null,
            "_view_module": "@jupyter-widgets/base",
            "_view_module_version": "1.2.0",
            "_view_name": "StyleView",
            "bar_color": null,
            "description_width": ""
          }
        },
        "dcbd95534ba743a8875b795a94d0e649": {
          "model_module": "@jupyter-widgets/base",
          "model_name": "LayoutModel",
          "model_module_version": "1.2.0",
          "state": {
            "_model_module": "@jupyter-widgets/base",
            "_model_module_version": "1.2.0",
            "_model_name": "LayoutModel",
            "_view_count": null,
            "_view_module": "@jupyter-widgets/base",
            "_view_module_version": "1.2.0",
            "_view_name": "LayoutView",
            "align_content": null,
            "align_items": null,
            "align_self": null,
            "border": null,
            "bottom": null,
            "display": null,
            "flex": null,
            "flex_flow": null,
            "grid_area": null,
            "grid_auto_columns": null,
            "grid_auto_flow": null,
            "grid_auto_rows": null,
            "grid_column": null,
            "grid_gap": null,
            "grid_row": null,
            "grid_template_areas": null,
            "grid_template_columns": null,
            "grid_template_rows": null,
            "height": null,
            "justify_content": null,
            "justify_items": null,
            "left": null,
            "margin": null,
            "max_height": null,
            "max_width": null,
            "min_height": null,
            "min_width": null,
            "object_fit": null,
            "object_position": null,
            "order": null,
            "overflow": null,
            "overflow_x": null,
            "overflow_y": null,
            "padding": null,
            "right": null,
            "top": null,
            "visibility": null,
            "width": null
          }
        },
        "76c7f4bb189e48c1bb85a98570aa6b70": {
          "model_module": "@jupyter-widgets/controls",
          "model_name": "DescriptionStyleModel",
          "model_module_version": "1.5.0",
          "state": {
            "_model_module": "@jupyter-widgets/controls",
            "_model_module_version": "1.5.0",
            "_model_name": "DescriptionStyleModel",
            "_view_count": null,
            "_view_module": "@jupyter-widgets/base",
            "_view_module_version": "1.2.0",
            "_view_name": "StyleView",
            "description_width": ""
          }
        },
        "8f0bf687bd5a44ef903a99e0cc4d1f57": {
          "model_module": "@jupyter-widgets/controls",
          "model_name": "HBoxModel",
          "model_module_version": "1.5.0",
          "state": {
            "_dom_classes": [],
            "_model_module": "@jupyter-widgets/controls",
            "_model_module_version": "1.5.0",
            "_model_name": "HBoxModel",
            "_view_count": null,
            "_view_module": "@jupyter-widgets/controls",
            "_view_module_version": "1.5.0",
            "_view_name": "HBoxView",
            "box_style": "",
            "children": [
              "IPY_MODEL_592cc2fcaaf540f799914ca6ebfb78c6",
              "IPY_MODEL_d67813d752cf4c3e9b7ea464de61bcce",
              "IPY_MODEL_66c89133bb404d65bc8d3703869c5dfc"
            ],
            "layout": "IPY_MODEL_f423f51ee8c44b5ca3fc7874a1118aa2"
          }
        },
        "592cc2fcaaf540f799914ca6ebfb78c6": {
          "model_module": "@jupyter-widgets/controls",
          "model_name": "HTMLModel",
          "model_module_version": "1.5.0",
          "state": {
            "_dom_classes": [],
            "_model_module": "@jupyter-widgets/controls",
            "_model_module_version": "1.5.0",
            "_model_name": "HTMLModel",
            "_view_count": null,
            "_view_module": "@jupyter-widgets/controls",
            "_view_module_version": "1.5.0",
            "_view_name": "HTMLView",
            "description": "",
            "description_tooltip": null,
            "layout": "IPY_MODEL_3d4e2a752af24682a0e438b720b88803",
            "placeholder": "​",
            "style": "IPY_MODEL_e33169723e0f4168a75519e3b4b1ef5c",
            "value": "Generating train split: "
          }
        },
        "d67813d752cf4c3e9b7ea464de61bcce": {
          "model_module": "@jupyter-widgets/controls",
          "model_name": "FloatProgressModel",
          "model_module_version": "1.5.0",
          "state": {
            "_dom_classes": [],
            "_model_module": "@jupyter-widgets/controls",
            "_model_module_version": "1.5.0",
            "_model_name": "FloatProgressModel",
            "_view_count": null,
            "_view_module": "@jupyter-widgets/controls",
            "_view_module_version": "1.5.0",
            "_view_name": "ProgressView",
            "bar_style": "success",
            "description": "",
            "description_tooltip": null,
            "layout": "IPY_MODEL_1f3b1974b0a64b1facfb772a12733e7f",
            "max": 1,
            "min": 0,
            "orientation": "horizontal",
            "style": "IPY_MODEL_ca56fa0390be46bc82109806adda3953",
            "value": 1
          }
        },
        "66c89133bb404d65bc8d3703869c5dfc": {
          "model_module": "@jupyter-widgets/controls",
          "model_name": "HTMLModel",
          "model_module_version": "1.5.0",
          "state": {
            "_dom_classes": [],
            "_model_module": "@jupyter-widgets/controls",
            "_model_module_version": "1.5.0",
            "_model_name": "HTMLModel",
            "_view_count": null,
            "_view_module": "@jupyter-widgets/controls",
            "_view_module_version": "1.5.0",
            "_view_name": "HTMLView",
            "description": "",
            "description_tooltip": null,
            "layout": "IPY_MODEL_e213601cc0a74504ba97f95aed48707a",
            "placeholder": "​",
            "style": "IPY_MODEL_7d8a1937fb9548a9b8e1cd15023907fd",
            "value": " 3120/0 [00:00&lt;00:00, 4957.99 examples/s]"
          }
        },
        "f423f51ee8c44b5ca3fc7874a1118aa2": {
          "model_module": "@jupyter-widgets/base",
          "model_name": "LayoutModel",
          "model_module_version": "1.2.0",
          "state": {
            "_model_module": "@jupyter-widgets/base",
            "_model_module_version": "1.2.0",
            "_model_name": "LayoutModel",
            "_view_count": null,
            "_view_module": "@jupyter-widgets/base",
            "_view_module_version": "1.2.0",
            "_view_name": "LayoutView",
            "align_content": null,
            "align_items": null,
            "align_self": null,
            "border": null,
            "bottom": null,
            "display": null,
            "flex": null,
            "flex_flow": null,
            "grid_area": null,
            "grid_auto_columns": null,
            "grid_auto_flow": null,
            "grid_auto_rows": null,
            "grid_column": null,
            "grid_gap": null,
            "grid_row": null,
            "grid_template_areas": null,
            "grid_template_columns": null,
            "grid_template_rows": null,
            "height": null,
            "justify_content": null,
            "justify_items": null,
            "left": null,
            "margin": null,
            "max_height": null,
            "max_width": null,
            "min_height": null,
            "min_width": null,
            "object_fit": null,
            "object_position": null,
            "order": null,
            "overflow": null,
            "overflow_x": null,
            "overflow_y": null,
            "padding": null,
            "right": null,
            "top": null,
            "visibility": null,
            "width": null
          }
        },
        "3d4e2a752af24682a0e438b720b88803": {
          "model_module": "@jupyter-widgets/base",
          "model_name": "LayoutModel",
          "model_module_version": "1.2.0",
          "state": {
            "_model_module": "@jupyter-widgets/base",
            "_model_module_version": "1.2.0",
            "_model_name": "LayoutModel",
            "_view_count": null,
            "_view_module": "@jupyter-widgets/base",
            "_view_module_version": "1.2.0",
            "_view_name": "LayoutView",
            "align_content": null,
            "align_items": null,
            "align_self": null,
            "border": null,
            "bottom": null,
            "display": null,
            "flex": null,
            "flex_flow": null,
            "grid_area": null,
            "grid_auto_columns": null,
            "grid_auto_flow": null,
            "grid_auto_rows": null,
            "grid_column": null,
            "grid_gap": null,
            "grid_row": null,
            "grid_template_areas": null,
            "grid_template_columns": null,
            "grid_template_rows": null,
            "height": null,
            "justify_content": null,
            "justify_items": null,
            "left": null,
            "margin": null,
            "max_height": null,
            "max_width": null,
            "min_height": null,
            "min_width": null,
            "object_fit": null,
            "object_position": null,
            "order": null,
            "overflow": null,
            "overflow_x": null,
            "overflow_y": null,
            "padding": null,
            "right": null,
            "top": null,
            "visibility": null,
            "width": null
          }
        },
        "e33169723e0f4168a75519e3b4b1ef5c": {
          "model_module": "@jupyter-widgets/controls",
          "model_name": "DescriptionStyleModel",
          "model_module_version": "1.5.0",
          "state": {
            "_model_module": "@jupyter-widgets/controls",
            "_model_module_version": "1.5.0",
            "_model_name": "DescriptionStyleModel",
            "_view_count": null,
            "_view_module": "@jupyter-widgets/base",
            "_view_module_version": "1.2.0",
            "_view_name": "StyleView",
            "description_width": ""
          }
        },
        "1f3b1974b0a64b1facfb772a12733e7f": {
          "model_module": "@jupyter-widgets/base",
          "model_name": "LayoutModel",
          "model_module_version": "1.2.0",
          "state": {
            "_model_module": "@jupyter-widgets/base",
            "_model_module_version": "1.2.0",
            "_model_name": "LayoutModel",
            "_view_count": null,
            "_view_module": "@jupyter-widgets/base",
            "_view_module_version": "1.2.0",
            "_view_name": "LayoutView",
            "align_content": null,
            "align_items": null,
            "align_self": null,
            "border": null,
            "bottom": null,
            "display": null,
            "flex": null,
            "flex_flow": null,
            "grid_area": null,
            "grid_auto_columns": null,
            "grid_auto_flow": null,
            "grid_auto_rows": null,
            "grid_column": null,
            "grid_gap": null,
            "grid_row": null,
            "grid_template_areas": null,
            "grid_template_columns": null,
            "grid_template_rows": null,
            "height": null,
            "justify_content": null,
            "justify_items": null,
            "left": null,
            "margin": null,
            "max_height": null,
            "max_width": null,
            "min_height": null,
            "min_width": null,
            "object_fit": null,
            "object_position": null,
            "order": null,
            "overflow": null,
            "overflow_x": null,
            "overflow_y": null,
            "padding": null,
            "right": null,
            "top": null,
            "visibility": null,
            "width": "20px"
          }
        },
        "ca56fa0390be46bc82109806adda3953": {
          "model_module": "@jupyter-widgets/controls",
          "model_name": "ProgressStyleModel",
          "model_module_version": "1.5.0",
          "state": {
            "_model_module": "@jupyter-widgets/controls",
            "_model_module_version": "1.5.0",
            "_model_name": "ProgressStyleModel",
            "_view_count": null,
            "_view_module": "@jupyter-widgets/base",
            "_view_module_version": "1.2.0",
            "_view_name": "StyleView",
            "bar_color": null,
            "description_width": ""
          }
        },
        "e213601cc0a74504ba97f95aed48707a": {
          "model_module": "@jupyter-widgets/base",
          "model_name": "LayoutModel",
          "model_module_version": "1.2.0",
          "state": {
            "_model_module": "@jupyter-widgets/base",
            "_model_module_version": "1.2.0",
            "_model_name": "LayoutModel",
            "_view_count": null,
            "_view_module": "@jupyter-widgets/base",
            "_view_module_version": "1.2.0",
            "_view_name": "LayoutView",
            "align_content": null,
            "align_items": null,
            "align_self": null,
            "border": null,
            "bottom": null,
            "display": null,
            "flex": null,
            "flex_flow": null,
            "grid_area": null,
            "grid_auto_columns": null,
            "grid_auto_flow": null,
            "grid_auto_rows": null,
            "grid_column": null,
            "grid_gap": null,
            "grid_row": null,
            "grid_template_areas": null,
            "grid_template_columns": null,
            "grid_template_rows": null,
            "height": null,
            "justify_content": null,
            "justify_items": null,
            "left": null,
            "margin": null,
            "max_height": null,
            "max_width": null,
            "min_height": null,
            "min_width": null,
            "object_fit": null,
            "object_position": null,
            "order": null,
            "overflow": null,
            "overflow_x": null,
            "overflow_y": null,
            "padding": null,
            "right": null,
            "top": null,
            "visibility": null,
            "width": null
          }
        },
        "7d8a1937fb9548a9b8e1cd15023907fd": {
          "model_module": "@jupyter-widgets/controls",
          "model_name": "DescriptionStyleModel",
          "model_module_version": "1.5.0",
          "state": {
            "_model_module": "@jupyter-widgets/controls",
            "_model_module_version": "1.5.0",
            "_model_name": "DescriptionStyleModel",
            "_view_count": null,
            "_view_module": "@jupyter-widgets/base",
            "_view_module_version": "1.2.0",
            "_view_name": "StyleView",
            "description_width": ""
          }
        },
        "48e937e8008240bdbd19f01bb0b0c45c": {
          "model_module": "@jupyter-widgets/controls",
          "model_name": "HBoxModel",
          "model_module_version": "1.5.0",
          "state": {
            "_dom_classes": [],
            "_model_module": "@jupyter-widgets/controls",
            "_model_module_version": "1.5.0",
            "_model_name": "HBoxModel",
            "_view_count": null,
            "_view_module": "@jupyter-widgets/controls",
            "_view_module_version": "1.5.0",
            "_view_name": "HBoxView",
            "box_style": "",
            "children": [
              "IPY_MODEL_2031ccc6886847ffa58915e7b88c0ac6",
              "IPY_MODEL_fa505ccfb14b4f2fb08ef902a5178c59",
              "IPY_MODEL_820a8297eb3c4d64bc931e1a9e3713d3"
            ],
            "layout": "IPY_MODEL_68f48e5b536c46b7ba5ea9a9c1728c93"
          }
        },
        "2031ccc6886847ffa58915e7b88c0ac6": {
          "model_module": "@jupyter-widgets/controls",
          "model_name": "HTMLModel",
          "model_module_version": "1.5.0",
          "state": {
            "_dom_classes": [],
            "_model_module": "@jupyter-widgets/controls",
            "_model_module_version": "1.5.0",
            "_model_name": "HTMLModel",
            "_view_count": null,
            "_view_module": "@jupyter-widgets/controls",
            "_view_module_version": "1.5.0",
            "_view_name": "HTMLView",
            "description": "",
            "description_tooltip": null,
            "layout": "IPY_MODEL_daa65fff7e7747589c26fd6fac2dce6a",
            "placeholder": "​",
            "style": "IPY_MODEL_f611ec85da804aa188ce089d86cecbd9",
            "value": "Resolving data files: 100%"
          }
        },
        "fa505ccfb14b4f2fb08ef902a5178c59": {
          "model_module": "@jupyter-widgets/controls",
          "model_name": "FloatProgressModel",
          "model_module_version": "1.5.0",
          "state": {
            "_dom_classes": [],
            "_model_module": "@jupyter-widgets/controls",
            "_model_module_version": "1.5.0",
            "_model_name": "FloatProgressModel",
            "_view_count": null,
            "_view_module": "@jupyter-widgets/controls",
            "_view_module_version": "1.5.0",
            "_view_name": "ProgressView",
            "bar_style": "success",
            "description": "",
            "description_tooltip": null,
            "layout": "IPY_MODEL_514c5a72d705429bb10643e86bd585b3",
            "max": 3120,
            "min": 0,
            "orientation": "horizontal",
            "style": "IPY_MODEL_98421394b9a34ddba5daef785045b552",
            "value": 3120
          }
        },
        "820a8297eb3c4d64bc931e1a9e3713d3": {
          "model_module": "@jupyter-widgets/controls",
          "model_name": "HTMLModel",
          "model_module_version": "1.5.0",
          "state": {
            "_dom_classes": [],
            "_model_module": "@jupyter-widgets/controls",
            "_model_module_version": "1.5.0",
            "_model_name": "HTMLModel",
            "_view_count": null,
            "_view_module": "@jupyter-widgets/controls",
            "_view_module_version": "1.5.0",
            "_view_name": "HTMLView",
            "description": "",
            "description_tooltip": null,
            "layout": "IPY_MODEL_18eaecbca0204c09b46a0403cf1c119d",
            "placeholder": "​",
            "style": "IPY_MODEL_c50c1e26cf684ac88d43e1fe5161089b",
            "value": " 3120/3120 [00:00&lt;00:00, 5564.89it/s]"
          }
        },
        "68f48e5b536c46b7ba5ea9a9c1728c93": {
          "model_module": "@jupyter-widgets/base",
          "model_name": "LayoutModel",
          "model_module_version": "1.2.0",
          "state": {
            "_model_module": "@jupyter-widgets/base",
            "_model_module_version": "1.2.0",
            "_model_name": "LayoutModel",
            "_view_count": null,
            "_view_module": "@jupyter-widgets/base",
            "_view_module_version": "1.2.0",
            "_view_name": "LayoutView",
            "align_content": null,
            "align_items": null,
            "align_self": null,
            "border": null,
            "bottom": null,
            "display": null,
            "flex": null,
            "flex_flow": null,
            "grid_area": null,
            "grid_auto_columns": null,
            "grid_auto_flow": null,
            "grid_auto_rows": null,
            "grid_column": null,
            "grid_gap": null,
            "grid_row": null,
            "grid_template_areas": null,
            "grid_template_columns": null,
            "grid_template_rows": null,
            "height": null,
            "justify_content": null,
            "justify_items": null,
            "left": null,
            "margin": null,
            "max_height": null,
            "max_width": null,
            "min_height": null,
            "min_width": null,
            "object_fit": null,
            "object_position": null,
            "order": null,
            "overflow": null,
            "overflow_x": null,
            "overflow_y": null,
            "padding": null,
            "right": null,
            "top": null,
            "visibility": null,
            "width": null
          }
        },
        "daa65fff7e7747589c26fd6fac2dce6a": {
          "model_module": "@jupyter-widgets/base",
          "model_name": "LayoutModel",
          "model_module_version": "1.2.0",
          "state": {
            "_model_module": "@jupyter-widgets/base",
            "_model_module_version": "1.2.0",
            "_model_name": "LayoutModel",
            "_view_count": null,
            "_view_module": "@jupyter-widgets/base",
            "_view_module_version": "1.2.0",
            "_view_name": "LayoutView",
            "align_content": null,
            "align_items": null,
            "align_self": null,
            "border": null,
            "bottom": null,
            "display": null,
            "flex": null,
            "flex_flow": null,
            "grid_area": null,
            "grid_auto_columns": null,
            "grid_auto_flow": null,
            "grid_auto_rows": null,
            "grid_column": null,
            "grid_gap": null,
            "grid_row": null,
            "grid_template_areas": null,
            "grid_template_columns": null,
            "grid_template_rows": null,
            "height": null,
            "justify_content": null,
            "justify_items": null,
            "left": null,
            "margin": null,
            "max_height": null,
            "max_width": null,
            "min_height": null,
            "min_width": null,
            "object_fit": null,
            "object_position": null,
            "order": null,
            "overflow": null,
            "overflow_x": null,
            "overflow_y": null,
            "padding": null,
            "right": null,
            "top": null,
            "visibility": null,
            "width": null
          }
        },
        "f611ec85da804aa188ce089d86cecbd9": {
          "model_module": "@jupyter-widgets/controls",
          "model_name": "DescriptionStyleModel",
          "model_module_version": "1.5.0",
          "state": {
            "_model_module": "@jupyter-widgets/controls",
            "_model_module_version": "1.5.0",
            "_model_name": "DescriptionStyleModel",
            "_view_count": null,
            "_view_module": "@jupyter-widgets/base",
            "_view_module_version": "1.2.0",
            "_view_name": "StyleView",
            "description_width": ""
          }
        },
        "514c5a72d705429bb10643e86bd585b3": {
          "model_module": "@jupyter-widgets/base",
          "model_name": "LayoutModel",
          "model_module_version": "1.2.0",
          "state": {
            "_model_module": "@jupyter-widgets/base",
            "_model_module_version": "1.2.0",
            "_model_name": "LayoutModel",
            "_view_count": null,
            "_view_module": "@jupyter-widgets/base",
            "_view_module_version": "1.2.0",
            "_view_name": "LayoutView",
            "align_content": null,
            "align_items": null,
            "align_self": null,
            "border": null,
            "bottom": null,
            "display": null,
            "flex": null,
            "flex_flow": null,
            "grid_area": null,
            "grid_auto_columns": null,
            "grid_auto_flow": null,
            "grid_auto_rows": null,
            "grid_column": null,
            "grid_gap": null,
            "grid_row": null,
            "grid_template_areas": null,
            "grid_template_columns": null,
            "grid_template_rows": null,
            "height": null,
            "justify_content": null,
            "justify_items": null,
            "left": null,
            "margin": null,
            "max_height": null,
            "max_width": null,
            "min_height": null,
            "min_width": null,
            "object_fit": null,
            "object_position": null,
            "order": null,
            "overflow": null,
            "overflow_x": null,
            "overflow_y": null,
            "padding": null,
            "right": null,
            "top": null,
            "visibility": null,
            "width": null
          }
        },
        "98421394b9a34ddba5daef785045b552": {
          "model_module": "@jupyter-widgets/controls",
          "model_name": "ProgressStyleModel",
          "model_module_version": "1.5.0",
          "state": {
            "_model_module": "@jupyter-widgets/controls",
            "_model_module_version": "1.5.0",
            "_model_name": "ProgressStyleModel",
            "_view_count": null,
            "_view_module": "@jupyter-widgets/base",
            "_view_module_version": "1.2.0",
            "_view_name": "StyleView",
            "bar_color": null,
            "description_width": ""
          }
        },
        "18eaecbca0204c09b46a0403cf1c119d": {
          "model_module": "@jupyter-widgets/base",
          "model_name": "LayoutModel",
          "model_module_version": "1.2.0",
          "state": {
            "_model_module": "@jupyter-widgets/base",
            "_model_module_version": "1.2.0",
            "_model_name": "LayoutModel",
            "_view_count": null,
            "_view_module": "@jupyter-widgets/base",
            "_view_module_version": "1.2.0",
            "_view_name": "LayoutView",
            "align_content": null,
            "align_items": null,
            "align_self": null,
            "border": null,
            "bottom": null,
            "display": null,
            "flex": null,
            "flex_flow": null,
            "grid_area": null,
            "grid_auto_columns": null,
            "grid_auto_flow": null,
            "grid_auto_rows": null,
            "grid_column": null,
            "grid_gap": null,
            "grid_row": null,
            "grid_template_areas": null,
            "grid_template_columns": null,
            "grid_template_rows": null,
            "height": null,
            "justify_content": null,
            "justify_items": null,
            "left": null,
            "margin": null,
            "max_height": null,
            "max_width": null,
            "min_height": null,
            "min_width": null,
            "object_fit": null,
            "object_position": null,
            "order": null,
            "overflow": null,
            "overflow_x": null,
            "overflow_y": null,
            "padding": null,
            "right": null,
            "top": null,
            "visibility": null,
            "width": null
          }
        },
        "c50c1e26cf684ac88d43e1fe5161089b": {
          "model_module": "@jupyter-widgets/controls",
          "model_name": "DescriptionStyleModel",
          "model_module_version": "1.5.0",
          "state": {
            "_model_module": "@jupyter-widgets/controls",
            "_model_module_version": "1.5.0",
            "_model_name": "DescriptionStyleModel",
            "_view_count": null,
            "_view_module": "@jupyter-widgets/base",
            "_view_module_version": "1.2.0",
            "_view_name": "StyleView",
            "description_width": ""
          }
        },
        "5702ec2e66a0415e93c5e1f6d684c9fb": {
          "model_module": "@jupyter-widgets/controls",
          "model_name": "HBoxModel",
          "model_module_version": "1.5.0",
          "state": {
            "_dom_classes": [],
            "_model_module": "@jupyter-widgets/controls",
            "_model_module_version": "1.5.0",
            "_model_name": "HBoxModel",
            "_view_count": null,
            "_view_module": "@jupyter-widgets/controls",
            "_view_module_version": "1.5.0",
            "_view_name": "HBoxView",
            "box_style": "",
            "children": [
              "IPY_MODEL_6ba337b990ae4b9a8e8314e00b736528",
              "IPY_MODEL_c610ff973d954f3c9852c7708e66a699",
              "IPY_MODEL_ccf9195f7aa347d28bdee47d905ce94a"
            ],
            "layout": "IPY_MODEL_bb7a459bcdc7449b9dba01808a7c4b8b"
          }
        },
        "6ba337b990ae4b9a8e8314e00b736528": {
          "model_module": "@jupyter-widgets/controls",
          "model_name": "HTMLModel",
          "model_module_version": "1.5.0",
          "state": {
            "_dom_classes": [],
            "_model_module": "@jupyter-widgets/controls",
            "_model_module_version": "1.5.0",
            "_model_name": "HTMLModel",
            "_view_count": null,
            "_view_module": "@jupyter-widgets/controls",
            "_view_module_version": "1.5.0",
            "_view_name": "HTMLView",
            "description": "",
            "description_tooltip": null,
            "layout": "IPY_MODEL_5c21603557d14438945cafc53be37ab6",
            "placeholder": "​",
            "style": "IPY_MODEL_4a7ee841ce4d423d9235d2543d15a780",
            "value": "Downloading data: 100%"
          }
        },
        "c610ff973d954f3c9852c7708e66a699": {
          "model_module": "@jupyter-widgets/controls",
          "model_name": "FloatProgressModel",
          "model_module_version": "1.5.0",
          "state": {
            "_dom_classes": [],
            "_model_module": "@jupyter-widgets/controls",
            "_model_module_version": "1.5.0",
            "_model_name": "FloatProgressModel",
            "_view_count": null,
            "_view_module": "@jupyter-widgets/controls",
            "_view_module_version": "1.5.0",
            "_view_name": "ProgressView",
            "bar_style": "success",
            "description": "",
            "description_tooltip": null,
            "layout": "IPY_MODEL_3eb1a932c2634510b709c11f0ff57da1",
            "max": 3120,
            "min": 0,
            "orientation": "horizontal",
            "style": "IPY_MODEL_8afbf9331958497c9ac3353580ba9e7b",
            "value": 3120
          }
        },
        "ccf9195f7aa347d28bdee47d905ce94a": {
          "model_module": "@jupyter-widgets/controls",
          "model_name": "HTMLModel",
          "model_module_version": "1.5.0",
          "state": {
            "_dom_classes": [],
            "_model_module": "@jupyter-widgets/controls",
            "_model_module_version": "1.5.0",
            "_model_name": "HTMLModel",
            "_view_count": null,
            "_view_module": "@jupyter-widgets/controls",
            "_view_module_version": "1.5.0",
            "_view_name": "HTMLView",
            "description": "",
            "description_tooltip": null,
            "layout": "IPY_MODEL_dae0d55452984407aa166cc203fdb2ff",
            "placeholder": "​",
            "style": "IPY_MODEL_7a9da991986d4020ac78071823b5ac4f",
            "value": " 3120/3120 [00:00&lt;00:00, 57962.40files/s]"
          }
        },
        "bb7a459bcdc7449b9dba01808a7c4b8b": {
          "model_module": "@jupyter-widgets/base",
          "model_name": "LayoutModel",
          "model_module_version": "1.2.0",
          "state": {
            "_model_module": "@jupyter-widgets/base",
            "_model_module_version": "1.2.0",
            "_model_name": "LayoutModel",
            "_view_count": null,
            "_view_module": "@jupyter-widgets/base",
            "_view_module_version": "1.2.0",
            "_view_name": "LayoutView",
            "align_content": null,
            "align_items": null,
            "align_self": null,
            "border": null,
            "bottom": null,
            "display": null,
            "flex": null,
            "flex_flow": null,
            "grid_area": null,
            "grid_auto_columns": null,
            "grid_auto_flow": null,
            "grid_auto_rows": null,
            "grid_column": null,
            "grid_gap": null,
            "grid_row": null,
            "grid_template_areas": null,
            "grid_template_columns": null,
            "grid_template_rows": null,
            "height": null,
            "justify_content": null,
            "justify_items": null,
            "left": null,
            "margin": null,
            "max_height": null,
            "max_width": null,
            "min_height": null,
            "min_width": null,
            "object_fit": null,
            "object_position": null,
            "order": null,
            "overflow": null,
            "overflow_x": null,
            "overflow_y": null,
            "padding": null,
            "right": null,
            "top": null,
            "visibility": null,
            "width": null
          }
        },
        "5c21603557d14438945cafc53be37ab6": {
          "model_module": "@jupyter-widgets/base",
          "model_name": "LayoutModel",
          "model_module_version": "1.2.0",
          "state": {
            "_model_module": "@jupyter-widgets/base",
            "_model_module_version": "1.2.0",
            "_model_name": "LayoutModel",
            "_view_count": null,
            "_view_module": "@jupyter-widgets/base",
            "_view_module_version": "1.2.0",
            "_view_name": "LayoutView",
            "align_content": null,
            "align_items": null,
            "align_self": null,
            "border": null,
            "bottom": null,
            "display": null,
            "flex": null,
            "flex_flow": null,
            "grid_area": null,
            "grid_auto_columns": null,
            "grid_auto_flow": null,
            "grid_auto_rows": null,
            "grid_column": null,
            "grid_gap": null,
            "grid_row": null,
            "grid_template_areas": null,
            "grid_template_columns": null,
            "grid_template_rows": null,
            "height": null,
            "justify_content": null,
            "justify_items": null,
            "left": null,
            "margin": null,
            "max_height": null,
            "max_width": null,
            "min_height": null,
            "min_width": null,
            "object_fit": null,
            "object_position": null,
            "order": null,
            "overflow": null,
            "overflow_x": null,
            "overflow_y": null,
            "padding": null,
            "right": null,
            "top": null,
            "visibility": null,
            "width": null
          }
        },
        "4a7ee841ce4d423d9235d2543d15a780": {
          "model_module": "@jupyter-widgets/controls",
          "model_name": "DescriptionStyleModel",
          "model_module_version": "1.5.0",
          "state": {
            "_model_module": "@jupyter-widgets/controls",
            "_model_module_version": "1.5.0",
            "_model_name": "DescriptionStyleModel",
            "_view_count": null,
            "_view_module": "@jupyter-widgets/base",
            "_view_module_version": "1.2.0",
            "_view_name": "StyleView",
            "description_width": ""
          }
        },
        "3eb1a932c2634510b709c11f0ff57da1": {
          "model_module": "@jupyter-widgets/base",
          "model_name": "LayoutModel",
          "model_module_version": "1.2.0",
          "state": {
            "_model_module": "@jupyter-widgets/base",
            "_model_module_version": "1.2.0",
            "_model_name": "LayoutModel",
            "_view_count": null,
            "_view_module": "@jupyter-widgets/base",
            "_view_module_version": "1.2.0",
            "_view_name": "LayoutView",
            "align_content": null,
            "align_items": null,
            "align_self": null,
            "border": null,
            "bottom": null,
            "display": null,
            "flex": null,
            "flex_flow": null,
            "grid_area": null,
            "grid_auto_columns": null,
            "grid_auto_flow": null,
            "grid_auto_rows": null,
            "grid_column": null,
            "grid_gap": null,
            "grid_row": null,
            "grid_template_areas": null,
            "grid_template_columns": null,
            "grid_template_rows": null,
            "height": null,
            "justify_content": null,
            "justify_items": null,
            "left": null,
            "margin": null,
            "max_height": null,
            "max_width": null,
            "min_height": null,
            "min_width": null,
            "object_fit": null,
            "object_position": null,
            "order": null,
            "overflow": null,
            "overflow_x": null,
            "overflow_y": null,
            "padding": null,
            "right": null,
            "top": null,
            "visibility": null,
            "width": null
          }
        },
        "8afbf9331958497c9ac3353580ba9e7b": {
          "model_module": "@jupyter-widgets/controls",
          "model_name": "ProgressStyleModel",
          "model_module_version": "1.5.0",
          "state": {
            "_model_module": "@jupyter-widgets/controls",
            "_model_module_version": "1.5.0",
            "_model_name": "ProgressStyleModel",
            "_view_count": null,
            "_view_module": "@jupyter-widgets/base",
            "_view_module_version": "1.2.0",
            "_view_name": "StyleView",
            "bar_color": null,
            "description_width": ""
          }
        },
        "dae0d55452984407aa166cc203fdb2ff": {
          "model_module": "@jupyter-widgets/base",
          "model_name": "LayoutModel",
          "model_module_version": "1.2.0",
          "state": {
            "_model_module": "@jupyter-widgets/base",
            "_model_module_version": "1.2.0",
            "_model_name": "LayoutModel",
            "_view_count": null,
            "_view_module": "@jupyter-widgets/base",
            "_view_module_version": "1.2.0",
            "_view_name": "LayoutView",
            "align_content": null,
            "align_items": null,
            "align_self": null,
            "border": null,
            "bottom": null,
            "display": null,
            "flex": null,
            "flex_flow": null,
            "grid_area": null,
            "grid_auto_columns": null,
            "grid_auto_flow": null,
            "grid_auto_rows": null,
            "grid_column": null,
            "grid_gap": null,
            "grid_row": null,
            "grid_template_areas": null,
            "grid_template_columns": null,
            "grid_template_rows": null,
            "height": null,
            "justify_content": null,
            "justify_items": null,
            "left": null,
            "margin": null,
            "max_height": null,
            "max_width": null,
            "min_height": null,
            "min_width": null,
            "object_fit": null,
            "object_position": null,
            "order": null,
            "overflow": null,
            "overflow_x": null,
            "overflow_y": null,
            "padding": null,
            "right": null,
            "top": null,
            "visibility": null,
            "width": null
          }
        },
        "7a9da991986d4020ac78071823b5ac4f": {
          "model_module": "@jupyter-widgets/controls",
          "model_name": "DescriptionStyleModel",
          "model_module_version": "1.5.0",
          "state": {
            "_model_module": "@jupyter-widgets/controls",
            "_model_module_version": "1.5.0",
            "_model_name": "DescriptionStyleModel",
            "_view_count": null,
            "_view_module": "@jupyter-widgets/base",
            "_view_module_version": "1.2.0",
            "_view_name": "StyleView",
            "description_width": ""
          }
        },
        "b9af503389434793996098b3b2401284": {
          "model_module": "@jupyter-widgets/controls",
          "model_name": "HBoxModel",
          "model_module_version": "1.5.0",
          "state": {
            "_dom_classes": [],
            "_model_module": "@jupyter-widgets/controls",
            "_model_module_version": "1.5.0",
            "_model_name": "HBoxModel",
            "_view_count": null,
            "_view_module": "@jupyter-widgets/controls",
            "_view_module_version": "1.5.0",
            "_view_name": "HBoxView",
            "box_style": "",
            "children": [
              "IPY_MODEL_b45c37b5e2784b9a846e66c0ee0c7349",
              "IPY_MODEL_752e43fa3382480f8d9672922a9438e9",
              "IPY_MODEL_f51e8d25494b402b923be77c99ac86b8"
            ],
            "layout": "IPY_MODEL_ddab8b78f48247caad55d9d9f142bc44"
          }
        },
        "b45c37b5e2784b9a846e66c0ee0c7349": {
          "model_module": "@jupyter-widgets/controls",
          "model_name": "HTMLModel",
          "model_module_version": "1.5.0",
          "state": {
            "_dom_classes": [],
            "_model_module": "@jupyter-widgets/controls",
            "_model_module_version": "1.5.0",
            "_model_name": "HTMLModel",
            "_view_count": null,
            "_view_module": "@jupyter-widgets/controls",
            "_view_module_version": "1.5.0",
            "_view_name": "HTMLView",
            "description": "",
            "description_tooltip": null,
            "layout": "IPY_MODEL_8aa4a1bb76a242d8b560d4412bf3bfac",
            "placeholder": "​",
            "style": "IPY_MODEL_13063208d9584ad8aa9d78f2c04d94b9",
            "value": "Generating train split: "
          }
        },
        "752e43fa3382480f8d9672922a9438e9": {
          "model_module": "@jupyter-widgets/controls",
          "model_name": "FloatProgressModel",
          "model_module_version": "1.5.0",
          "state": {
            "_dom_classes": [],
            "_model_module": "@jupyter-widgets/controls",
            "_model_module_version": "1.5.0",
            "_model_name": "FloatProgressModel",
            "_view_count": null,
            "_view_module": "@jupyter-widgets/controls",
            "_view_module_version": "1.5.0",
            "_view_name": "ProgressView",
            "bar_style": "success",
            "description": "",
            "description_tooltip": null,
            "layout": "IPY_MODEL_67bc322d3d6c4d68839c70271fb19da0",
            "max": 1,
            "min": 0,
            "orientation": "horizontal",
            "style": "IPY_MODEL_7a98578177864eb4a24853b646b496d6",
            "value": 1
          }
        },
        "f51e8d25494b402b923be77c99ac86b8": {
          "model_module": "@jupyter-widgets/controls",
          "model_name": "HTMLModel",
          "model_module_version": "1.5.0",
          "state": {
            "_dom_classes": [],
            "_model_module": "@jupyter-widgets/controls",
            "_model_module_version": "1.5.0",
            "_model_name": "HTMLModel",
            "_view_count": null,
            "_view_module": "@jupyter-widgets/controls",
            "_view_module_version": "1.5.0",
            "_view_name": "HTMLView",
            "description": "",
            "description_tooltip": null,
            "layout": "IPY_MODEL_887427cf73dc4208b5691cb03bb999c5",
            "placeholder": "​",
            "style": "IPY_MODEL_9a53f80633f64e428434e59352540603",
            "value": " 3120/0 [00:00&lt;00:00, 4680.16 examples/s]"
          }
        },
        "ddab8b78f48247caad55d9d9f142bc44": {
          "model_module": "@jupyter-widgets/base",
          "model_name": "LayoutModel",
          "model_module_version": "1.2.0",
          "state": {
            "_model_module": "@jupyter-widgets/base",
            "_model_module_version": "1.2.0",
            "_model_name": "LayoutModel",
            "_view_count": null,
            "_view_module": "@jupyter-widgets/base",
            "_view_module_version": "1.2.0",
            "_view_name": "LayoutView",
            "align_content": null,
            "align_items": null,
            "align_self": null,
            "border": null,
            "bottom": null,
            "display": null,
            "flex": null,
            "flex_flow": null,
            "grid_area": null,
            "grid_auto_columns": null,
            "grid_auto_flow": null,
            "grid_auto_rows": null,
            "grid_column": null,
            "grid_gap": null,
            "grid_row": null,
            "grid_template_areas": null,
            "grid_template_columns": null,
            "grid_template_rows": null,
            "height": null,
            "justify_content": null,
            "justify_items": null,
            "left": null,
            "margin": null,
            "max_height": null,
            "max_width": null,
            "min_height": null,
            "min_width": null,
            "object_fit": null,
            "object_position": null,
            "order": null,
            "overflow": null,
            "overflow_x": null,
            "overflow_y": null,
            "padding": null,
            "right": null,
            "top": null,
            "visibility": null,
            "width": null
          }
        },
        "8aa4a1bb76a242d8b560d4412bf3bfac": {
          "model_module": "@jupyter-widgets/base",
          "model_name": "LayoutModel",
          "model_module_version": "1.2.0",
          "state": {
            "_model_module": "@jupyter-widgets/base",
            "_model_module_version": "1.2.0",
            "_model_name": "LayoutModel",
            "_view_count": null,
            "_view_module": "@jupyter-widgets/base",
            "_view_module_version": "1.2.0",
            "_view_name": "LayoutView",
            "align_content": null,
            "align_items": null,
            "align_self": null,
            "border": null,
            "bottom": null,
            "display": null,
            "flex": null,
            "flex_flow": null,
            "grid_area": null,
            "grid_auto_columns": null,
            "grid_auto_flow": null,
            "grid_auto_rows": null,
            "grid_column": null,
            "grid_gap": null,
            "grid_row": null,
            "grid_template_areas": null,
            "grid_template_columns": null,
            "grid_template_rows": null,
            "height": null,
            "justify_content": null,
            "justify_items": null,
            "left": null,
            "margin": null,
            "max_height": null,
            "max_width": null,
            "min_height": null,
            "min_width": null,
            "object_fit": null,
            "object_position": null,
            "order": null,
            "overflow": null,
            "overflow_x": null,
            "overflow_y": null,
            "padding": null,
            "right": null,
            "top": null,
            "visibility": null,
            "width": null
          }
        },
        "13063208d9584ad8aa9d78f2c04d94b9": {
          "model_module": "@jupyter-widgets/controls",
          "model_name": "DescriptionStyleModel",
          "model_module_version": "1.5.0",
          "state": {
            "_model_module": "@jupyter-widgets/controls",
            "_model_module_version": "1.5.0",
            "_model_name": "DescriptionStyleModel",
            "_view_count": null,
            "_view_module": "@jupyter-widgets/base",
            "_view_module_version": "1.2.0",
            "_view_name": "StyleView",
            "description_width": ""
          }
        },
        "67bc322d3d6c4d68839c70271fb19da0": {
          "model_module": "@jupyter-widgets/base",
          "model_name": "LayoutModel",
          "model_module_version": "1.2.0",
          "state": {
            "_model_module": "@jupyter-widgets/base",
            "_model_module_version": "1.2.0",
            "_model_name": "LayoutModel",
            "_view_count": null,
            "_view_module": "@jupyter-widgets/base",
            "_view_module_version": "1.2.0",
            "_view_name": "LayoutView",
            "align_content": null,
            "align_items": null,
            "align_self": null,
            "border": null,
            "bottom": null,
            "display": null,
            "flex": null,
            "flex_flow": null,
            "grid_area": null,
            "grid_auto_columns": null,
            "grid_auto_flow": null,
            "grid_auto_rows": null,
            "grid_column": null,
            "grid_gap": null,
            "grid_row": null,
            "grid_template_areas": null,
            "grid_template_columns": null,
            "grid_template_rows": null,
            "height": null,
            "justify_content": null,
            "justify_items": null,
            "left": null,
            "margin": null,
            "max_height": null,
            "max_width": null,
            "min_height": null,
            "min_width": null,
            "object_fit": null,
            "object_position": null,
            "order": null,
            "overflow": null,
            "overflow_x": null,
            "overflow_y": null,
            "padding": null,
            "right": null,
            "top": null,
            "visibility": null,
            "width": "20px"
          }
        },
        "7a98578177864eb4a24853b646b496d6": {
          "model_module": "@jupyter-widgets/controls",
          "model_name": "ProgressStyleModel",
          "model_module_version": "1.5.0",
          "state": {
            "_model_module": "@jupyter-widgets/controls",
            "_model_module_version": "1.5.0",
            "_model_name": "ProgressStyleModel",
            "_view_count": null,
            "_view_module": "@jupyter-widgets/base",
            "_view_module_version": "1.2.0",
            "_view_name": "StyleView",
            "bar_color": null,
            "description_width": ""
          }
        },
        "887427cf73dc4208b5691cb03bb999c5": {
          "model_module": "@jupyter-widgets/base",
          "model_name": "LayoutModel",
          "model_module_version": "1.2.0",
          "state": {
            "_model_module": "@jupyter-widgets/base",
            "_model_module_version": "1.2.0",
            "_model_name": "LayoutModel",
            "_view_count": null,
            "_view_module": "@jupyter-widgets/base",
            "_view_module_version": "1.2.0",
            "_view_name": "LayoutView",
            "align_content": null,
            "align_items": null,
            "align_self": null,
            "border": null,
            "bottom": null,
            "display": null,
            "flex": null,
            "flex_flow": null,
            "grid_area": null,
            "grid_auto_columns": null,
            "grid_auto_flow": null,
            "grid_auto_rows": null,
            "grid_column": null,
            "grid_gap": null,
            "grid_row": null,
            "grid_template_areas": null,
            "grid_template_columns": null,
            "grid_template_rows": null,
            "height": null,
            "justify_content": null,
            "justify_items": null,
            "left": null,
            "margin": null,
            "max_height": null,
            "max_width": null,
            "min_height": null,
            "min_width": null,
            "object_fit": null,
            "object_position": null,
            "order": null,
            "overflow": null,
            "overflow_x": null,
            "overflow_y": null,
            "padding": null,
            "right": null,
            "top": null,
            "visibility": null,
            "width": null
          }
        },
        "9a53f80633f64e428434e59352540603": {
          "model_module": "@jupyter-widgets/controls",
          "model_name": "DescriptionStyleModel",
          "model_module_version": "1.5.0",
          "state": {
            "_model_module": "@jupyter-widgets/controls",
            "_model_module_version": "1.5.0",
            "_model_name": "DescriptionStyleModel",
            "_view_count": null,
            "_view_module": "@jupyter-widgets/base",
            "_view_module_version": "1.2.0",
            "_view_name": "StyleView",
            "description_width": ""
          }
        },
        "d77bfedbb4544ee2942365149af46a8f": {
          "model_module": "@jupyter-widgets/controls",
          "model_name": "HBoxModel",
          "model_module_version": "1.5.0",
          "state": {
            "_dom_classes": [],
            "_model_module": "@jupyter-widgets/controls",
            "_model_module_version": "1.5.0",
            "_model_name": "HBoxModel",
            "_view_count": null,
            "_view_module": "@jupyter-widgets/controls",
            "_view_module_version": "1.5.0",
            "_view_name": "HBoxView",
            "box_style": "",
            "children": [
              "IPY_MODEL_09c25980320740ad9c3c0c0afb929ec7",
              "IPY_MODEL_ef3c38c0f21b436892b2877b88bb82ce",
              "IPY_MODEL_cd47d57739eb4d4fb939460a33210ee2"
            ],
            "layout": "IPY_MODEL_5116541d56da41388532f8f333c74bfc"
          }
        },
        "09c25980320740ad9c3c0c0afb929ec7": {
          "model_module": "@jupyter-widgets/controls",
          "model_name": "HTMLModel",
          "model_module_version": "1.5.0",
          "state": {
            "_dom_classes": [],
            "_model_module": "@jupyter-widgets/controls",
            "_model_module_version": "1.5.0",
            "_model_name": "HTMLModel",
            "_view_count": null,
            "_view_module": "@jupyter-widgets/controls",
            "_view_module_version": "1.5.0",
            "_view_name": "HTMLView",
            "description": "",
            "description_tooltip": null,
            "layout": "IPY_MODEL_608f4a3e296e4bdfae47a9d758db77b0",
            "placeholder": "​",
            "style": "IPY_MODEL_8b470e1275764256a8f2b4345ace5352",
            "value": "Resolving data files: 100%"
          }
        },
        "ef3c38c0f21b436892b2877b88bb82ce": {
          "model_module": "@jupyter-widgets/controls",
          "model_name": "FloatProgressModel",
          "model_module_version": "1.5.0",
          "state": {
            "_dom_classes": [],
            "_model_module": "@jupyter-widgets/controls",
            "_model_module_version": "1.5.0",
            "_model_name": "FloatProgressModel",
            "_view_count": null,
            "_view_module": "@jupyter-widgets/controls",
            "_view_module_version": "1.5.0",
            "_view_name": "ProgressView",
            "bar_style": "success",
            "description": "",
            "description_tooltip": null,
            "layout": "IPY_MODEL_3fe7622b0f8d4b938e2b01466e1dbe8e",
            "max": 3136,
            "min": 0,
            "orientation": "horizontal",
            "style": "IPY_MODEL_846b691e173040dcb21472d16eb17bd0",
            "value": 3136
          }
        },
        "cd47d57739eb4d4fb939460a33210ee2": {
          "model_module": "@jupyter-widgets/controls",
          "model_name": "HTMLModel",
          "model_module_version": "1.5.0",
          "state": {
            "_dom_classes": [],
            "_model_module": "@jupyter-widgets/controls",
            "_model_module_version": "1.5.0",
            "_model_name": "HTMLModel",
            "_view_count": null,
            "_view_module": "@jupyter-widgets/controls",
            "_view_module_version": "1.5.0",
            "_view_name": "HTMLView",
            "description": "",
            "description_tooltip": null,
            "layout": "IPY_MODEL_4bebc97bb1f34a88a8546c809c0757a1",
            "placeholder": "​",
            "style": "IPY_MODEL_d37d41dc572e4904b6e0d914104a025b",
            "value": " 3136/3136 [00:00&lt;00:00,  4.61it/s]"
          }
        },
        "5116541d56da41388532f8f333c74bfc": {
          "model_module": "@jupyter-widgets/base",
          "model_name": "LayoutModel",
          "model_module_version": "1.2.0",
          "state": {
            "_model_module": "@jupyter-widgets/base",
            "_model_module_version": "1.2.0",
            "_model_name": "LayoutModel",
            "_view_count": null,
            "_view_module": "@jupyter-widgets/base",
            "_view_module_version": "1.2.0",
            "_view_name": "LayoutView",
            "align_content": null,
            "align_items": null,
            "align_self": null,
            "border": null,
            "bottom": null,
            "display": null,
            "flex": null,
            "flex_flow": null,
            "grid_area": null,
            "grid_auto_columns": null,
            "grid_auto_flow": null,
            "grid_auto_rows": null,
            "grid_column": null,
            "grid_gap": null,
            "grid_row": null,
            "grid_template_areas": null,
            "grid_template_columns": null,
            "grid_template_rows": null,
            "height": null,
            "justify_content": null,
            "justify_items": null,
            "left": null,
            "margin": null,
            "max_height": null,
            "max_width": null,
            "min_height": null,
            "min_width": null,
            "object_fit": null,
            "object_position": null,
            "order": null,
            "overflow": null,
            "overflow_x": null,
            "overflow_y": null,
            "padding": null,
            "right": null,
            "top": null,
            "visibility": null,
            "width": null
          }
        },
        "608f4a3e296e4bdfae47a9d758db77b0": {
          "model_module": "@jupyter-widgets/base",
          "model_name": "LayoutModel",
          "model_module_version": "1.2.0",
          "state": {
            "_model_module": "@jupyter-widgets/base",
            "_model_module_version": "1.2.0",
            "_model_name": "LayoutModel",
            "_view_count": null,
            "_view_module": "@jupyter-widgets/base",
            "_view_module_version": "1.2.0",
            "_view_name": "LayoutView",
            "align_content": null,
            "align_items": null,
            "align_self": null,
            "border": null,
            "bottom": null,
            "display": null,
            "flex": null,
            "flex_flow": null,
            "grid_area": null,
            "grid_auto_columns": null,
            "grid_auto_flow": null,
            "grid_auto_rows": null,
            "grid_column": null,
            "grid_gap": null,
            "grid_row": null,
            "grid_template_areas": null,
            "grid_template_columns": null,
            "grid_template_rows": null,
            "height": null,
            "justify_content": null,
            "justify_items": null,
            "left": null,
            "margin": null,
            "max_height": null,
            "max_width": null,
            "min_height": null,
            "min_width": null,
            "object_fit": null,
            "object_position": null,
            "order": null,
            "overflow": null,
            "overflow_x": null,
            "overflow_y": null,
            "padding": null,
            "right": null,
            "top": null,
            "visibility": null,
            "width": null
          }
        },
        "8b470e1275764256a8f2b4345ace5352": {
          "model_module": "@jupyter-widgets/controls",
          "model_name": "DescriptionStyleModel",
          "model_module_version": "1.5.0",
          "state": {
            "_model_module": "@jupyter-widgets/controls",
            "_model_module_version": "1.5.0",
            "_model_name": "DescriptionStyleModel",
            "_view_count": null,
            "_view_module": "@jupyter-widgets/base",
            "_view_module_version": "1.2.0",
            "_view_name": "StyleView",
            "description_width": ""
          }
        },
        "3fe7622b0f8d4b938e2b01466e1dbe8e": {
          "model_module": "@jupyter-widgets/base",
          "model_name": "LayoutModel",
          "model_module_version": "1.2.0",
          "state": {
            "_model_module": "@jupyter-widgets/base",
            "_model_module_version": "1.2.0",
            "_model_name": "LayoutModel",
            "_view_count": null,
            "_view_module": "@jupyter-widgets/base",
            "_view_module_version": "1.2.0",
            "_view_name": "LayoutView",
            "align_content": null,
            "align_items": null,
            "align_self": null,
            "border": null,
            "bottom": null,
            "display": null,
            "flex": null,
            "flex_flow": null,
            "grid_area": null,
            "grid_auto_columns": null,
            "grid_auto_flow": null,
            "grid_auto_rows": null,
            "grid_column": null,
            "grid_gap": null,
            "grid_row": null,
            "grid_template_areas": null,
            "grid_template_columns": null,
            "grid_template_rows": null,
            "height": null,
            "justify_content": null,
            "justify_items": null,
            "left": null,
            "margin": null,
            "max_height": null,
            "max_width": null,
            "min_height": null,
            "min_width": null,
            "object_fit": null,
            "object_position": null,
            "order": null,
            "overflow": null,
            "overflow_x": null,
            "overflow_y": null,
            "padding": null,
            "right": null,
            "top": null,
            "visibility": null,
            "width": null
          }
        },
        "846b691e173040dcb21472d16eb17bd0": {
          "model_module": "@jupyter-widgets/controls",
          "model_name": "ProgressStyleModel",
          "model_module_version": "1.5.0",
          "state": {
            "_model_module": "@jupyter-widgets/controls",
            "_model_module_version": "1.5.0",
            "_model_name": "ProgressStyleModel",
            "_view_count": null,
            "_view_module": "@jupyter-widgets/base",
            "_view_module_version": "1.2.0",
            "_view_name": "StyleView",
            "bar_color": null,
            "description_width": ""
          }
        },
        "4bebc97bb1f34a88a8546c809c0757a1": {
          "model_module": "@jupyter-widgets/base",
          "model_name": "LayoutModel",
          "model_module_version": "1.2.0",
          "state": {
            "_model_module": "@jupyter-widgets/base",
            "_model_module_version": "1.2.0",
            "_model_name": "LayoutModel",
            "_view_count": null,
            "_view_module": "@jupyter-widgets/base",
            "_view_module_version": "1.2.0",
            "_view_name": "LayoutView",
            "align_content": null,
            "align_items": null,
            "align_self": null,
            "border": null,
            "bottom": null,
            "display": null,
            "flex": null,
            "flex_flow": null,
            "grid_area": null,
            "grid_auto_columns": null,
            "grid_auto_flow": null,
            "grid_auto_rows": null,
            "grid_column": null,
            "grid_gap": null,
            "grid_row": null,
            "grid_template_areas": null,
            "grid_template_columns": null,
            "grid_template_rows": null,
            "height": null,
            "justify_content": null,
            "justify_items": null,
            "left": null,
            "margin": null,
            "max_height": null,
            "max_width": null,
            "min_height": null,
            "min_width": null,
            "object_fit": null,
            "object_position": null,
            "order": null,
            "overflow": null,
            "overflow_x": null,
            "overflow_y": null,
            "padding": null,
            "right": null,
            "top": null,
            "visibility": null,
            "width": null
          }
        },
        "d37d41dc572e4904b6e0d914104a025b": {
          "model_module": "@jupyter-widgets/controls",
          "model_name": "DescriptionStyleModel",
          "model_module_version": "1.5.0",
          "state": {
            "_model_module": "@jupyter-widgets/controls",
            "_model_module_version": "1.5.0",
            "_model_name": "DescriptionStyleModel",
            "_view_count": null,
            "_view_module": "@jupyter-widgets/base",
            "_view_module_version": "1.2.0",
            "_view_name": "StyleView",
            "description_width": ""
          }
        },
        "3077823f611a45e4b348b4f927d5421e": {
          "model_module": "@jupyter-widgets/controls",
          "model_name": "HBoxModel",
          "model_module_version": "1.5.0",
          "state": {
            "_dom_classes": [],
            "_model_module": "@jupyter-widgets/controls",
            "_model_module_version": "1.5.0",
            "_model_name": "HBoxModel",
            "_view_count": null,
            "_view_module": "@jupyter-widgets/controls",
            "_view_module_version": "1.5.0",
            "_view_name": "HBoxView",
            "box_style": "",
            "children": [
              "IPY_MODEL_8a715d677a4a4ac0b57025048838a1b2",
              "IPY_MODEL_a8d7e917fb61462d9a26311e84c964e9",
              "IPY_MODEL_a2027615946a41e6b5d10c247288dd27"
            ],
            "layout": "IPY_MODEL_5144f7592c5542ddab9982a0b281928d"
          }
        },
        "8a715d677a4a4ac0b57025048838a1b2": {
          "model_module": "@jupyter-widgets/controls",
          "model_name": "HTMLModel",
          "model_module_version": "1.5.0",
          "state": {
            "_dom_classes": [],
            "_model_module": "@jupyter-widgets/controls",
            "_model_module_version": "1.5.0",
            "_model_name": "HTMLModel",
            "_view_count": null,
            "_view_module": "@jupyter-widgets/controls",
            "_view_module_version": "1.5.0",
            "_view_name": "HTMLView",
            "description": "",
            "description_tooltip": null,
            "layout": "IPY_MODEL_6dc0e5bdf8224064b56decb6eda918a3",
            "placeholder": "​",
            "style": "IPY_MODEL_9f340823ed5b462fb3b852d21c61b79a",
            "value": "Downloading data: 100%"
          }
        },
        "a8d7e917fb61462d9a26311e84c964e9": {
          "model_module": "@jupyter-widgets/controls",
          "model_name": "FloatProgressModel",
          "model_module_version": "1.5.0",
          "state": {
            "_dom_classes": [],
            "_model_module": "@jupyter-widgets/controls",
            "_model_module_version": "1.5.0",
            "_model_name": "FloatProgressModel",
            "_view_count": null,
            "_view_module": "@jupyter-widgets/controls",
            "_view_module_version": "1.5.0",
            "_view_name": "ProgressView",
            "bar_style": "success",
            "description": "",
            "description_tooltip": null,
            "layout": "IPY_MODEL_6dbebeb2d4464fc7a87e0710f0e87936",
            "max": 3136,
            "min": 0,
            "orientation": "horizontal",
            "style": "IPY_MODEL_6c63664346124d1b9b4ffca30cd28eca",
            "value": 3136
          }
        },
        "a2027615946a41e6b5d10c247288dd27": {
          "model_module": "@jupyter-widgets/controls",
          "model_name": "HTMLModel",
          "model_module_version": "1.5.0",
          "state": {
            "_dom_classes": [],
            "_model_module": "@jupyter-widgets/controls",
            "_model_module_version": "1.5.0",
            "_model_name": "HTMLModel",
            "_view_count": null,
            "_view_module": "@jupyter-widgets/controls",
            "_view_module_version": "1.5.0",
            "_view_name": "HTMLView",
            "description": "",
            "description_tooltip": null,
            "layout": "IPY_MODEL_659015ac432341e898dcbd6a68b02ae3",
            "placeholder": "​",
            "style": "IPY_MODEL_2d011f8cf3c04451b9ec42d54238c044",
            "value": " 3136/3136 [00:00&lt;00:00, 58372.63files/s]"
          }
        },
        "5144f7592c5542ddab9982a0b281928d": {
          "model_module": "@jupyter-widgets/base",
          "model_name": "LayoutModel",
          "model_module_version": "1.2.0",
          "state": {
            "_model_module": "@jupyter-widgets/base",
            "_model_module_version": "1.2.0",
            "_model_name": "LayoutModel",
            "_view_count": null,
            "_view_module": "@jupyter-widgets/base",
            "_view_module_version": "1.2.0",
            "_view_name": "LayoutView",
            "align_content": null,
            "align_items": null,
            "align_self": null,
            "border": null,
            "bottom": null,
            "display": null,
            "flex": null,
            "flex_flow": null,
            "grid_area": null,
            "grid_auto_columns": null,
            "grid_auto_flow": null,
            "grid_auto_rows": null,
            "grid_column": null,
            "grid_gap": null,
            "grid_row": null,
            "grid_template_areas": null,
            "grid_template_columns": null,
            "grid_template_rows": null,
            "height": null,
            "justify_content": null,
            "justify_items": null,
            "left": null,
            "margin": null,
            "max_height": null,
            "max_width": null,
            "min_height": null,
            "min_width": null,
            "object_fit": null,
            "object_position": null,
            "order": null,
            "overflow": null,
            "overflow_x": null,
            "overflow_y": null,
            "padding": null,
            "right": null,
            "top": null,
            "visibility": null,
            "width": null
          }
        },
        "6dc0e5bdf8224064b56decb6eda918a3": {
          "model_module": "@jupyter-widgets/base",
          "model_name": "LayoutModel",
          "model_module_version": "1.2.0",
          "state": {
            "_model_module": "@jupyter-widgets/base",
            "_model_module_version": "1.2.0",
            "_model_name": "LayoutModel",
            "_view_count": null,
            "_view_module": "@jupyter-widgets/base",
            "_view_module_version": "1.2.0",
            "_view_name": "LayoutView",
            "align_content": null,
            "align_items": null,
            "align_self": null,
            "border": null,
            "bottom": null,
            "display": null,
            "flex": null,
            "flex_flow": null,
            "grid_area": null,
            "grid_auto_columns": null,
            "grid_auto_flow": null,
            "grid_auto_rows": null,
            "grid_column": null,
            "grid_gap": null,
            "grid_row": null,
            "grid_template_areas": null,
            "grid_template_columns": null,
            "grid_template_rows": null,
            "height": null,
            "justify_content": null,
            "justify_items": null,
            "left": null,
            "margin": null,
            "max_height": null,
            "max_width": null,
            "min_height": null,
            "min_width": null,
            "object_fit": null,
            "object_position": null,
            "order": null,
            "overflow": null,
            "overflow_x": null,
            "overflow_y": null,
            "padding": null,
            "right": null,
            "top": null,
            "visibility": null,
            "width": null
          }
        },
        "9f340823ed5b462fb3b852d21c61b79a": {
          "model_module": "@jupyter-widgets/controls",
          "model_name": "DescriptionStyleModel",
          "model_module_version": "1.5.0",
          "state": {
            "_model_module": "@jupyter-widgets/controls",
            "_model_module_version": "1.5.0",
            "_model_name": "DescriptionStyleModel",
            "_view_count": null,
            "_view_module": "@jupyter-widgets/base",
            "_view_module_version": "1.2.0",
            "_view_name": "StyleView",
            "description_width": ""
          }
        },
        "6dbebeb2d4464fc7a87e0710f0e87936": {
          "model_module": "@jupyter-widgets/base",
          "model_name": "LayoutModel",
          "model_module_version": "1.2.0",
          "state": {
            "_model_module": "@jupyter-widgets/base",
            "_model_module_version": "1.2.0",
            "_model_name": "LayoutModel",
            "_view_count": null,
            "_view_module": "@jupyter-widgets/base",
            "_view_module_version": "1.2.0",
            "_view_name": "LayoutView",
            "align_content": null,
            "align_items": null,
            "align_self": null,
            "border": null,
            "bottom": null,
            "display": null,
            "flex": null,
            "flex_flow": null,
            "grid_area": null,
            "grid_auto_columns": null,
            "grid_auto_flow": null,
            "grid_auto_rows": null,
            "grid_column": null,
            "grid_gap": null,
            "grid_row": null,
            "grid_template_areas": null,
            "grid_template_columns": null,
            "grid_template_rows": null,
            "height": null,
            "justify_content": null,
            "justify_items": null,
            "left": null,
            "margin": null,
            "max_height": null,
            "max_width": null,
            "min_height": null,
            "min_width": null,
            "object_fit": null,
            "object_position": null,
            "order": null,
            "overflow": null,
            "overflow_x": null,
            "overflow_y": null,
            "padding": null,
            "right": null,
            "top": null,
            "visibility": null,
            "width": null
          }
        },
        "6c63664346124d1b9b4ffca30cd28eca": {
          "model_module": "@jupyter-widgets/controls",
          "model_name": "ProgressStyleModel",
          "model_module_version": "1.5.0",
          "state": {
            "_model_module": "@jupyter-widgets/controls",
            "_model_module_version": "1.5.0",
            "_model_name": "ProgressStyleModel",
            "_view_count": null,
            "_view_module": "@jupyter-widgets/base",
            "_view_module_version": "1.2.0",
            "_view_name": "StyleView",
            "bar_color": null,
            "description_width": ""
          }
        },
        "659015ac432341e898dcbd6a68b02ae3": {
          "model_module": "@jupyter-widgets/base",
          "model_name": "LayoutModel",
          "model_module_version": "1.2.0",
          "state": {
            "_model_module": "@jupyter-widgets/base",
            "_model_module_version": "1.2.0",
            "_model_name": "LayoutModel",
            "_view_count": null,
            "_view_module": "@jupyter-widgets/base",
            "_view_module_version": "1.2.0",
            "_view_name": "LayoutView",
            "align_content": null,
            "align_items": null,
            "align_self": null,
            "border": null,
            "bottom": null,
            "display": null,
            "flex": null,
            "flex_flow": null,
            "grid_area": null,
            "grid_auto_columns": null,
            "grid_auto_flow": null,
            "grid_auto_rows": null,
            "grid_column": null,
            "grid_gap": null,
            "grid_row": null,
            "grid_template_areas": null,
            "grid_template_columns": null,
            "grid_template_rows": null,
            "height": null,
            "justify_content": null,
            "justify_items": null,
            "left": null,
            "margin": null,
            "max_height": null,
            "max_width": null,
            "min_height": null,
            "min_width": null,
            "object_fit": null,
            "object_position": null,
            "order": null,
            "overflow": null,
            "overflow_x": null,
            "overflow_y": null,
            "padding": null,
            "right": null,
            "top": null,
            "visibility": null,
            "width": null
          }
        },
        "2d011f8cf3c04451b9ec42d54238c044": {
          "model_module": "@jupyter-widgets/controls",
          "model_name": "DescriptionStyleModel",
          "model_module_version": "1.5.0",
          "state": {
            "_model_module": "@jupyter-widgets/controls",
            "_model_module_version": "1.5.0",
            "_model_name": "DescriptionStyleModel",
            "_view_count": null,
            "_view_module": "@jupyter-widgets/base",
            "_view_module_version": "1.2.0",
            "_view_name": "StyleView",
            "description_width": ""
          }
        },
        "ed98d87af4e34ce0bd126b720e2cd2ae": {
          "model_module": "@jupyter-widgets/controls",
          "model_name": "HBoxModel",
          "model_module_version": "1.5.0",
          "state": {
            "_dom_classes": [],
            "_model_module": "@jupyter-widgets/controls",
            "_model_module_version": "1.5.0",
            "_model_name": "HBoxModel",
            "_view_count": null,
            "_view_module": "@jupyter-widgets/controls",
            "_view_module_version": "1.5.0",
            "_view_name": "HBoxView",
            "box_style": "",
            "children": [
              "IPY_MODEL_374f59e372344ee49225de25029445be",
              "IPY_MODEL_56ce23f0e2654e289858ba6e365bf8e9",
              "IPY_MODEL_24885aae3a2548e7af1d59a10bd03337"
            ],
            "layout": "IPY_MODEL_df6ddb9dcaaa42a09761d6af96b4216d"
          }
        },
        "374f59e372344ee49225de25029445be": {
          "model_module": "@jupyter-widgets/controls",
          "model_name": "HTMLModel",
          "model_module_version": "1.5.0",
          "state": {
            "_dom_classes": [],
            "_model_module": "@jupyter-widgets/controls",
            "_model_module_version": "1.5.0",
            "_model_name": "HTMLModel",
            "_view_count": null,
            "_view_module": "@jupyter-widgets/controls",
            "_view_module_version": "1.5.0",
            "_view_name": "HTMLView",
            "description": "",
            "description_tooltip": null,
            "layout": "IPY_MODEL_339efac3a9b24e62b800851ee41d3c77",
            "placeholder": "​",
            "style": "IPY_MODEL_0c60a77bbd53457da3e81cccdc9afa38",
            "value": "Generating train split: "
          }
        },
        "56ce23f0e2654e289858ba6e365bf8e9": {
          "model_module": "@jupyter-widgets/controls",
          "model_name": "FloatProgressModel",
          "model_module_version": "1.5.0",
          "state": {
            "_dom_classes": [],
            "_model_module": "@jupyter-widgets/controls",
            "_model_module_version": "1.5.0",
            "_model_name": "FloatProgressModel",
            "_view_count": null,
            "_view_module": "@jupyter-widgets/controls",
            "_view_module_version": "1.5.0",
            "_view_name": "ProgressView",
            "bar_style": "success",
            "description": "",
            "description_tooltip": null,
            "layout": "IPY_MODEL_98a34eae57c6401c90b92dd6e9bcec56",
            "max": 1,
            "min": 0,
            "orientation": "horizontal",
            "style": "IPY_MODEL_abe6693d4a154c1ba4e304f7b6fbd447",
            "value": 1
          }
        },
        "24885aae3a2548e7af1d59a10bd03337": {
          "model_module": "@jupyter-widgets/controls",
          "model_name": "HTMLModel",
          "model_module_version": "1.5.0",
          "state": {
            "_dom_classes": [],
            "_model_module": "@jupyter-widgets/controls",
            "_model_module_version": "1.5.0",
            "_model_name": "HTMLModel",
            "_view_count": null,
            "_view_module": "@jupyter-widgets/controls",
            "_view_module_version": "1.5.0",
            "_view_name": "HTMLView",
            "description": "",
            "description_tooltip": null,
            "layout": "IPY_MODEL_4f1eb9375f4b41e196045d6c8ae12ea9",
            "placeholder": "​",
            "style": "IPY_MODEL_1120a70974994094bdb3dc80b826757b",
            "value": " 3136/0 [00:00&lt;00:00, 10094.08 examples/s]"
          }
        },
        "df6ddb9dcaaa42a09761d6af96b4216d": {
          "model_module": "@jupyter-widgets/base",
          "model_name": "LayoutModel",
          "model_module_version": "1.2.0",
          "state": {
            "_model_module": "@jupyter-widgets/base",
            "_model_module_version": "1.2.0",
            "_model_name": "LayoutModel",
            "_view_count": null,
            "_view_module": "@jupyter-widgets/base",
            "_view_module_version": "1.2.0",
            "_view_name": "LayoutView",
            "align_content": null,
            "align_items": null,
            "align_self": null,
            "border": null,
            "bottom": null,
            "display": null,
            "flex": null,
            "flex_flow": null,
            "grid_area": null,
            "grid_auto_columns": null,
            "grid_auto_flow": null,
            "grid_auto_rows": null,
            "grid_column": null,
            "grid_gap": null,
            "grid_row": null,
            "grid_template_areas": null,
            "grid_template_columns": null,
            "grid_template_rows": null,
            "height": null,
            "justify_content": null,
            "justify_items": null,
            "left": null,
            "margin": null,
            "max_height": null,
            "max_width": null,
            "min_height": null,
            "min_width": null,
            "object_fit": null,
            "object_position": null,
            "order": null,
            "overflow": null,
            "overflow_x": null,
            "overflow_y": null,
            "padding": null,
            "right": null,
            "top": null,
            "visibility": null,
            "width": null
          }
        },
        "339efac3a9b24e62b800851ee41d3c77": {
          "model_module": "@jupyter-widgets/base",
          "model_name": "LayoutModel",
          "model_module_version": "1.2.0",
          "state": {
            "_model_module": "@jupyter-widgets/base",
            "_model_module_version": "1.2.0",
            "_model_name": "LayoutModel",
            "_view_count": null,
            "_view_module": "@jupyter-widgets/base",
            "_view_module_version": "1.2.0",
            "_view_name": "LayoutView",
            "align_content": null,
            "align_items": null,
            "align_self": null,
            "border": null,
            "bottom": null,
            "display": null,
            "flex": null,
            "flex_flow": null,
            "grid_area": null,
            "grid_auto_columns": null,
            "grid_auto_flow": null,
            "grid_auto_rows": null,
            "grid_column": null,
            "grid_gap": null,
            "grid_row": null,
            "grid_template_areas": null,
            "grid_template_columns": null,
            "grid_template_rows": null,
            "height": null,
            "justify_content": null,
            "justify_items": null,
            "left": null,
            "margin": null,
            "max_height": null,
            "max_width": null,
            "min_height": null,
            "min_width": null,
            "object_fit": null,
            "object_position": null,
            "order": null,
            "overflow": null,
            "overflow_x": null,
            "overflow_y": null,
            "padding": null,
            "right": null,
            "top": null,
            "visibility": null,
            "width": null
          }
        },
        "0c60a77bbd53457da3e81cccdc9afa38": {
          "model_module": "@jupyter-widgets/controls",
          "model_name": "DescriptionStyleModel",
          "model_module_version": "1.5.0",
          "state": {
            "_model_module": "@jupyter-widgets/controls",
            "_model_module_version": "1.5.0",
            "_model_name": "DescriptionStyleModel",
            "_view_count": null,
            "_view_module": "@jupyter-widgets/base",
            "_view_module_version": "1.2.0",
            "_view_name": "StyleView",
            "description_width": ""
          }
        },
        "98a34eae57c6401c90b92dd6e9bcec56": {
          "model_module": "@jupyter-widgets/base",
          "model_name": "LayoutModel",
          "model_module_version": "1.2.0",
          "state": {
            "_model_module": "@jupyter-widgets/base",
            "_model_module_version": "1.2.0",
            "_model_name": "LayoutModel",
            "_view_count": null,
            "_view_module": "@jupyter-widgets/base",
            "_view_module_version": "1.2.0",
            "_view_name": "LayoutView",
            "align_content": null,
            "align_items": null,
            "align_self": null,
            "border": null,
            "bottom": null,
            "display": null,
            "flex": null,
            "flex_flow": null,
            "grid_area": null,
            "grid_auto_columns": null,
            "grid_auto_flow": null,
            "grid_auto_rows": null,
            "grid_column": null,
            "grid_gap": null,
            "grid_row": null,
            "grid_template_areas": null,
            "grid_template_columns": null,
            "grid_template_rows": null,
            "height": null,
            "justify_content": null,
            "justify_items": null,
            "left": null,
            "margin": null,
            "max_height": null,
            "max_width": null,
            "min_height": null,
            "min_width": null,
            "object_fit": null,
            "object_position": null,
            "order": null,
            "overflow": null,
            "overflow_x": null,
            "overflow_y": null,
            "padding": null,
            "right": null,
            "top": null,
            "visibility": null,
            "width": "20px"
          }
        },
        "abe6693d4a154c1ba4e304f7b6fbd447": {
          "model_module": "@jupyter-widgets/controls",
          "model_name": "ProgressStyleModel",
          "model_module_version": "1.5.0",
          "state": {
            "_model_module": "@jupyter-widgets/controls",
            "_model_module_version": "1.5.0",
            "_model_name": "ProgressStyleModel",
            "_view_count": null,
            "_view_module": "@jupyter-widgets/base",
            "_view_module_version": "1.2.0",
            "_view_name": "StyleView",
            "bar_color": null,
            "description_width": ""
          }
        },
        "4f1eb9375f4b41e196045d6c8ae12ea9": {
          "model_module": "@jupyter-widgets/base",
          "model_name": "LayoutModel",
          "model_module_version": "1.2.0",
          "state": {
            "_model_module": "@jupyter-widgets/base",
            "_model_module_version": "1.2.0",
            "_model_name": "LayoutModel",
            "_view_count": null,
            "_view_module": "@jupyter-widgets/base",
            "_view_module_version": "1.2.0",
            "_view_name": "LayoutView",
            "align_content": null,
            "align_items": null,
            "align_self": null,
            "border": null,
            "bottom": null,
            "display": null,
            "flex": null,
            "flex_flow": null,
            "grid_area": null,
            "grid_auto_columns": null,
            "grid_auto_flow": null,
            "grid_auto_rows": null,
            "grid_column": null,
            "grid_gap": null,
            "grid_row": null,
            "grid_template_areas": null,
            "grid_template_columns": null,
            "grid_template_rows": null,
            "height": null,
            "justify_content": null,
            "justify_items": null,
            "left": null,
            "margin": null,
            "max_height": null,
            "max_width": null,
            "min_height": null,
            "min_width": null,
            "object_fit": null,
            "object_position": null,
            "order": null,
            "overflow": null,
            "overflow_x": null,
            "overflow_y": null,
            "padding": null,
            "right": null,
            "top": null,
            "visibility": null,
            "width": null
          }
        },
        "1120a70974994094bdb3dc80b826757b": {
          "model_module": "@jupyter-widgets/controls",
          "model_name": "DescriptionStyleModel",
          "model_module_version": "1.5.0",
          "state": {
            "_model_module": "@jupyter-widgets/controls",
            "_model_module_version": "1.5.0",
            "_model_name": "DescriptionStyleModel",
            "_view_count": null,
            "_view_module": "@jupyter-widgets/base",
            "_view_module_version": "1.2.0",
            "_view_name": "StyleView",
            "description_width": ""
          }
        }
      }
    }
  },
  "cells": [
    {
      "cell_type": "markdown",
      "source": [
        "## Vizualising RAPSDs for all synthetic car types"
      ],
      "metadata": {
        "id": "51PBNZBjrnSz"
      }
    },
    {
      "cell_type": "code",
      "source": [
        "!pip install -q deeplake\n",
        "!pip install -q pysteps\n",
        "!pip install -q datasets"
      ],
      "metadata": {
        "id": "oIQMLRtePGZ-",
        "colab": {
          "base_uri": "https://localhost:8080/"
        },
        "outputId": "4ee1af80-372e-409a-91fd-9f91f5bc9dbb"
      },
      "execution_count": null,
      "outputs": [
        {
          "output_type": "stream",
          "name": "stdout",
          "text": [
            "\u001b[2K   \u001b[90m━━━━━━━━━━━━━━━━━━━━━━━━━━━━━━━━━━━━━━━━\u001b[0m \u001b[32m17.2/17.2 MB\u001b[0m \u001b[31m35.7 MB/s\u001b[0m eta \u001b[36m0:00:00\u001b[0m\n",
            "\u001b[2K     \u001b[90m━━━━━━━━━━━━━━━━━━━━━━━━━━━━━━━━━━━━━━━━\u001b[0m \u001b[32m589.9/589.9 kB\u001b[0m \u001b[31m10.8 MB/s\u001b[0m eta \u001b[36m0:00:00\u001b[0m\n",
            "\u001b[?25h  Installing build dependencies ... \u001b[?25l\u001b[?25hdone\n",
            "  Getting requirements to build wheel ... \u001b[?25l\u001b[?25hdone\n",
            "  Installing backend dependencies ... \u001b[?25l\u001b[?25hdone\n",
            "  Preparing metadata (pyproject.toml) ... \u001b[?25l\u001b[?25hdone\n",
            "  Building wheel for pysteps (pyproject.toml) ... \u001b[?25l\u001b[?25hdone\n",
            "\u001b[2K   \u001b[90m━━━━━━━━━━━━━━━━━━━━━━━━━━━━━━━━━━━━━━━━\u001b[0m \u001b[32m480.6/480.6 kB\u001b[0m \u001b[31m16.2 MB/s\u001b[0m eta \u001b[36m0:00:00\u001b[0m\n",
            "\u001b[2K   \u001b[90m━━━━━━━━━━━━━━━━━━━━━━━━━━━━━━━━━━━━━━━━\u001b[0m \u001b[32m116.3/116.3 kB\u001b[0m \u001b[31m7.7 MB/s\u001b[0m eta \u001b[36m0:00:00\u001b[0m\n",
            "\u001b[2K   \u001b[90m━━━━━━━━━━━━━━━━━━━━━━━━━━━━━━━━━━━━━━━━\u001b[0m \u001b[32m179.3/179.3 kB\u001b[0m \u001b[31m11.4 MB/s\u001b[0m eta \u001b[36m0:00:00\u001b[0m\n",
            "\u001b[2K   \u001b[90m━━━━━━━━━━━━━━━━━━━━━━━━━━━━━━━━━━━━━━━━\u001b[0m \u001b[32m134.8/134.8 kB\u001b[0m \u001b[31m8.8 MB/s\u001b[0m eta \u001b[36m0:00:00\u001b[0m\n",
            "\u001b[2K   \u001b[90m━━━━━━━━━━━━━━━━━━━━━━━━━━━━━━━━━━━━━━━━\u001b[0m \u001b[32m194.1/194.1 kB\u001b[0m \u001b[31m11.6 MB/s\u001b[0m eta \u001b[36m0:00:00\u001b[0m\n",
            "\u001b[?25h\u001b[31mERROR: pip's dependency resolver does not currently take into account all the packages that are installed. This behaviour is the source of the following dependency conflicts.\n",
            "gcsfs 2024.10.0 requires fsspec==2024.10.0, but you have fsspec 2024.9.0 which is incompatible.\u001b[0m\u001b[31m\n",
            "\u001b[0m"
          ]
        }
      ]
    },
    {
      "cell_type": "code",
      "execution_count": null,
      "metadata": {
        "id": "PNzMYMXSriy3"
      },
      "outputs": [],
      "source": [
        "import os\n",
        "import time\n",
        "import copy\n",
        "import itertools\n",
        "import shutil\n",
        "import zipfile\n",
        "import random\n",
        "import numpy as np\n",
        "import cv2\n",
        "import torch\n",
        "import torch.nn as nn\n",
        "import torch.optim as optim\n",
        "import torchvision\n",
        "from torchvision import datasets, models, transforms\n",
        "from torch.utils.data import DataLoader\n",
        "from PIL import Image\n",
        "from scipy.signal import welch\n",
        "from scipy.interpolate import interp1d\n",
        "from skimage import io, color\n",
        "from IPython.display import Audio, display\n",
        "import tensorflow_datasets as tfds\n",
        "import librosa\n",
        "from pysteps.utils import spectral\n",
        "import matplotlib.pyplot as plt\n",
        "from matplotlib import animation, rc\n",
        "from datasets import load_dataset, concatenate_datasets\n",
        "\n",
        "# Configure matplotlib for animations\n",
        "rc('animation', html='jshtml')"
      ]
    },
    {
      "cell_type": "code",
      "source": [
        "from google.colab import drive\n",
        "drive.mount('/content/drive')"
      ],
      "metadata": {
        "colab": {
          "base_uri": "https://localhost:8080/"
        },
        "id": "2pEf37dhrk_Z",
        "outputId": "ad6486fb-91fe-42a1-c52c-677398213c57"
      },
      "execution_count": null,
      "outputs": [
        {
          "output_type": "stream",
          "name": "stdout",
          "text": [
            "Mounted at /content/drive\n"
          ]
        }
      ]
    },
    {
      "cell_type": "markdown",
      "source": [
        "## Checking the data and paths"
      ],
      "metadata": {
        "id": "NtDL8YBCX47P"
      }
    },
    {
      "cell_type": "code",
      "source": [
        "# Defining path for the zip folder of synthetic images\n",
        "stanford_cars_synthetic_path = '/content/drive/My Drive/Colab Notebooks/Stanford_Cars/stanford-cars-synthetic-classwise-16.zip'\n",
        "\n",
        "# Define path we store it in\n",
        "extraction_path = '/content/stanford-cars-synthetic'\n",
        "\n",
        "# Extract the zip file to the specified path\n",
        "with zipfile.ZipFile(stanford_cars_synthetic_path, 'r') as zip_ref:\n",
        "    zip_ref.extractall(extraction_path)\n",
        "\n",
        "print(f\"Files extracted to {extraction_path}\")"
      ],
      "metadata": {
        "id": "8POR6fL0rkfN",
        "colab": {
          "base_uri": "https://localhost:8080/"
        },
        "outputId": "2061ccda-bccb-48a9-d2a2-e3b564ad340d"
      },
      "execution_count": null,
      "outputs": [
        {
          "output_type": "stream",
          "name": "stdout",
          "text": [
            "Files extracted to /content/stanford-cars-synthetic\n"
          ]
        }
      ]
    },
    {
      "cell_type": "code",
      "source": [
        "all_cars_path = '/content/stanford-cars-synthetic/stanford-cars-synthetic-classwise-16/synthetic_16'\n",
        "\n",
        "#for car_folder in sorted(os.listdir(all_cars_path)):\n",
        "#  print(car_folder)\n",
        "\n",
        "print(\"We have\", len(sorted(os.listdir(all_cars_path))), \"models of cars\")"
      ],
      "metadata": {
        "colab": {
          "base_uri": "https://localhost:8080/"
        },
        "id": "V3ifxenPvcdV",
        "outputId": "f961769d-dc53-493c-f4c4-36687b043923"
      },
      "execution_count": null,
      "outputs": [
        {
          "output_type": "stream",
          "name": "stdout",
          "text": [
            "We have 197 models of cars\n"
          ]
        }
      ]
    },
    {
      "cell_type": "markdown",
      "source": [
        "## **Analysis on 2920 the synthetic car pictures - RAPSDs, residuals and power law exponents**"
      ],
      "metadata": {
        "id": "aBiy4Y3nX_3H"
      }
    },
    {
      "cell_type": "code",
      "source": [
        "try:\n",
        "    # Load the dataset\n",
        "    dataset_synth_cars = load_dataset(all_cars_path, split=\"train\")\n",
        "    print(\"Dataset loaded successfully.\")\n",
        "\n",
        "    # Convert the dataset to a list if it isn't already\n",
        "    dataset_synth_cars = list(dataset_synth_cars)\n",
        "\n",
        "    # Shuffle the dataset\n",
        "    random.seed(42)  # Set seed for reproducibility\n",
        "    random.shuffle(dataset_synth_cars)\n",
        "\n",
        "    # Split into train and test sets\n",
        "    test_set_size = 200\n",
        "    test_set_fake = dataset_synth_cars[:test_set_size]  # First 200 images\n",
        "    train_set_fake = dataset_synth_cars[test_set_size:] # Remaining images\n",
        "\n",
        "    # Print sizes\n",
        "    print(f\"Training set size: {len(train_set_fake)}\")\n",
        "    print(f\"Test set size: {len(test_set_fake)}\")\n",
        "except Exception as e:\n",
        "    print(f\"Error loading dataset: {e}\")"
      ],
      "metadata": {
        "colab": {
          "base_uri": "https://localhost:8080/",
          "height": 165,
          "referenced_widgets": [
            "1fde8ed69d2f44149ab83244a55e743e",
            "aa7d5c3e9aca47049bcc7da4da8859ae",
            "ac4f57cb45a94b309754bead56c2ae0b",
            "794fa43863604011bcb2468119186dd4",
            "510874c8f3214614af8bd45f46e1d624",
            "67c21e28bff3476abf3700bf1499f586",
            "fa26deadc839498d966d9d31c107bafc",
            "1f34b50a71dc4ac0a8175c1238b6b3ab",
            "05e8d91ee8a44d2494e5ecbbfda45d3a",
            "03514b50078d46d684fb74b30044f4c0",
            "d3a3f064ccff495b917e6955b3f72f92",
            "413cd050205f49a6bec2d9e5bf5a30e7",
            "f437e1de55294dffa581a7b081511c41",
            "a7eb40721acd4b9abc1578aafe503a8a",
            "95520b21a2eb47eca546551660a27e55",
            "0600275b68304340aa725c2cd6d9443f",
            "10f3fd2cb38e48e7a71807765276e56f",
            "1f07a864aacf4a85a62b671151f2995b",
            "b2308f79d58843fea03c2efef6e1795e",
            "51eaaf493c1443c693734aa61c163d41",
            "dcbd95534ba743a8875b795a94d0e649",
            "76c7f4bb189e48c1bb85a98570aa6b70",
            "8f0bf687bd5a44ef903a99e0cc4d1f57",
            "592cc2fcaaf540f799914ca6ebfb78c6",
            "d67813d752cf4c3e9b7ea464de61bcce",
            "66c89133bb404d65bc8d3703869c5dfc",
            "f423f51ee8c44b5ca3fc7874a1118aa2",
            "3d4e2a752af24682a0e438b720b88803",
            "e33169723e0f4168a75519e3b4b1ef5c",
            "1f3b1974b0a64b1facfb772a12733e7f",
            "ca56fa0390be46bc82109806adda3953",
            "e213601cc0a74504ba97f95aed48707a",
            "7d8a1937fb9548a9b8e1cd15023907fd"
          ]
        },
        "id": "JzhqB2HKXQEp",
        "outputId": "d8caf2eb-185f-4fc8-f818-47fe825a83aa"
      },
      "execution_count": null,
      "outputs": [
        {
          "output_type": "display_data",
          "data": {
            "text/plain": [
              "Resolving data files:   0%|          | 0/3120 [00:00<?, ?it/s]"
            ],
            "application/vnd.jupyter.widget-view+json": {
              "version_major": 2,
              "version_minor": 0,
              "model_id": "1fde8ed69d2f44149ab83244a55e743e"
            }
          },
          "metadata": {}
        },
        {
          "output_type": "display_data",
          "data": {
            "text/plain": [
              "Downloading data:   0%|          | 0/3120 [00:00<?, ?files/s]"
            ],
            "application/vnd.jupyter.widget-view+json": {
              "version_major": 2,
              "version_minor": 0,
              "model_id": "413cd050205f49a6bec2d9e5bf5a30e7"
            }
          },
          "metadata": {}
        },
        {
          "output_type": "display_data",
          "data": {
            "text/plain": [
              "Generating train split: 0 examples [00:00, ? examples/s]"
            ],
            "application/vnd.jupyter.widget-view+json": {
              "version_major": 2,
              "version_minor": 0,
              "model_id": "8f0bf687bd5a44ef903a99e0cc4d1f57"
            }
          },
          "metadata": {}
        },
        {
          "output_type": "stream",
          "name": "stdout",
          "text": [
            "Dataset loaded successfully.\n",
            "Training set size: 2920\n",
            "Test set size: 200\n"
          ]
        }
      ]
    },
    {
      "cell_type": "code",
      "source": [
        "def resize_and_crop(image, smallest_side):\n",
        "    height, width, num_channels = image.shape\n",
        "\n",
        "    # Resize.\n",
        "    if height <= width:\n",
        "        new_height = smallest_side\n",
        "        new_width = int(width * (new_height / height))\n",
        "    else:\n",
        "        new_width = smallest_side\n",
        "        new_height = int(height * (new_width / width))\n",
        "\n",
        "    image = cv2.resize(image, (new_width, new_height), interpolation=cv2.INTER_LINEAR)\n",
        "\n",
        "    # Centre crop.\n",
        "    offset_h = (new_height - smallest_side) // 2\n",
        "    offset_w = (new_width - smallest_side) // 2\n",
        "\n",
        "    return image[offset_h:offset_h + smallest_side, offset_w:offset_w + smallest_side, :]"
      ],
      "metadata": {
        "id": "0l2Ryrj6d77L"
      },
      "execution_count": null,
      "outputs": []
    },
    {
      "cell_type": "code",
      "source": [
        "image_size = 320\n",
        "num_examples_synth = len(train_set_fake)\n",
        "images_synth = []\n",
        "for example in itertools.islice(train_set_fake, num_examples_synth):\n",
        "  img = example['image']\n",
        "  arr = np.array(img)\n",
        "  arr = resize_and_crop(arr, image_size)\n",
        "  images_synth.append(arr)\n",
        "images_synth = np.array(images_synth)"
      ],
      "metadata": {
        "id": "zfo2ht8XYPyQ"
      },
      "execution_count": null,
      "outputs": []
    },
    {
      "cell_type": "code",
      "source": [
        "images_synth = (images_synth.astype(np.float32) / 255.0) * 2 - 1  # Scale and shift to [-1, 1]."
      ],
      "metadata": {
        "id": "vUM4UHjogu_9"
      },
      "execution_count": null,
      "outputs": []
    },
    {
      "cell_type": "code",
      "source": [
        "def calc_mean_log_rapsd(x):\n",
        "  spectra = []\n",
        "  for k in range(num_examples_synth):\n",
        "    rapsd, frequencies = spectral.rapsd(x[k, ...], fft_method=np.fft, return_freq=True)\n",
        "    spectra.append(rapsd)\n",
        "\n",
        "  mean_log_rapsd = np.mean(np.array([np.log(s + 1e-30) for s in spectra]), axis=0)\n",
        "  return mean_log_rapsd, frequencies"
      ],
      "metadata": {
        "id": "eaTUEF3MhFME"
      },
      "execution_count": null,
      "outputs": []
    },
    {
      "cell_type": "code",
      "source": [
        "# Plotting the log RAPSDs\n",
        "mean_log_rapsd_synth, frequencies_synth = calc_mean_log_rapsd(images_synth[..., 1])\n",
        "\n",
        "# Getting the alpha exponent of powerlaw\n",
        "log_frequencies_synth = np.log(frequencies_synth[1:])\n",
        "equally_spaced_log_frequencies_synth = np.linspace(log_frequencies_synth[0], log_frequencies_synth[-1], 1000)\n",
        "interpolated_rapsd_synth = np.interp(equally_spaced_log_frequencies_synth, log_frequencies_synth, mean_log_rapsd_synth[1:])\n",
        "\n",
        "m_synth, b_synth = np.polyfit(equally_spaced_log_frequencies_synth, interpolated_rapsd_synth, 1)\n",
        "linear_fit_synth = m_synth * equally_spaced_log_frequencies_synth + b_synth\n",
        "\n",
        "# Residuals\n",
        "mse_synth = np.mean((linear_fit_synth - interpolated_rapsd_synth)**2)\n",
        "print(mse_synth)\n",
        "residuals_mse_synth = np.sqrt(mse_synth)\n",
        "\n",
        "# Plotting\n",
        "\n",
        "plt.figure(figsize=(8, 4))\n",
        "plt.title(\"Average RAPSDs of all synthetic images of the Stanford cars dataset\", fontsize = 18)\n",
        "plt.plot(frequencies_synth[1:], np.exp(mean_log_rapsd_synth)[1:], c='red', marker='o', markersize=3)\n",
        "plt.plot(np.exp(equally_spaced_log_frequencies_synth), np.exp(linear_fit_synth), label=f'$\\\\alpha$ = {m_synth:.2f})', linestyle='--')\n",
        "plt.xscale('log')\n",
        "plt.yscale('log')\n",
        "plt.legend()\n",
        "plt.grid(alpha = 0.5)\n",
        "plt.xlabel('Frequency', fontsize = 12)\n",
        "plt.ylabel('Power', fontsize = 12);"
      ],
      "metadata": {
        "colab": {
          "base_uri": "https://localhost:8080/",
          "height": 441
        },
        "id": "fwrGpi9OhaEa",
        "outputId": "caeeaa50-6083-4301-ba29-132925c4b8c4"
      },
      "execution_count": null,
      "outputs": [
        {
          "output_type": "stream",
          "name": "stdout",
          "text": [
            "0.14484882911095082\n"
          ]
        },
        {
          "output_type": "display_data",
          "data": {
            "text/plain": [
              "<Figure size 800x400 with 1 Axes>"
            ],
            "image/png": "[encoded data removed]"
          },
          "metadata": {}
        }
      ]
    },
    {
      "cell_type": "code",
      "source": [
        "# Plot residuals\n",
        "plt.figure(figsize=(8, 4))\n",
        "residuals_synth = linear_fit_synth - interpolated_rapsd_synth\n",
        "plt.scatter(np.exp(equally_spaced_log_frequencies_synth), residuals_synth, color='purple', label=\"Residuals\", s=10)\n",
        "plt.axhline(0, color='black', linestyle='--')\n",
        "plt.xscale('log')\n",
        "plt.xlabel('Frequency', fontsize = 12)\n",
        "plt.ylabel('Residuals', fontsize = 12)\n",
        "plt.xlim(-0.001, 0.52)\n",
        "plt.ylim(-0.4,1.24)\n",
        "plt.title(\"Residuals of synthetic images - Stanford cars dataset\", fontsize = 18)\n",
        "\n",
        "plt.grid(alpha = 0.5)\n",
        "plt.legend()\n",
        "plt.show()"
      ],
      "metadata": {
        "colab": {
          "base_uri": "https://localhost:8080/",
          "height": 459
        },
        "id": "FNUFjw3iUid3",
        "outputId": "82ee9417-3bd6-40ed-ce31-49fbc5b81d1c"
      },
      "execution_count": null,
      "outputs": [
        {
          "output_type": "stream",
          "name": "stderr",
          "text": [
            "<ipython-input-12-a19cc6f2ab30>:9: UserWarning: Attempt to set non-positive xlim on a log-scaled axis will be ignored.\n",
            "  plt.xlim(-0.001, 0.52)\n"
          ]
        },
        {
          "output_type": "display_data",
          "data": {
            "text/plain": [
              "<Figure size 800x400 with 1 Axes>"
            ],
            "image/png": "[encoded data removed]"
          },
          "metadata": {}
        }
      ]
    },
    {
      "cell_type": "markdown",
      "source": [
        "## **Analysis on 2920 the real car pictures - RAPSDs, residuals and power law exponents**"
      ],
      "metadata": {
        "id": "uDQCwDQMadkI"
      }
    },
    {
      "cell_type": "code",
      "source": [
        "# Defining path for the zip folder of real images\n",
        "stanford_cars_real_path = '/content/drive/My Drive/Colab Notebooks/Stanford_Cars/stanford-cars-real-train-fewshot.zip'\n",
        "\n",
        "# Define path we store it in\n",
        "extraction_path = '/content/stanford-cars-real'\n",
        "\n",
        "# Extract the zip file to the specified path\n",
        "with zipfile.ZipFile(stanford_cars_real_path, 'r') as zip_ref:\n",
        "    zip_ref.extractall(extraction_path)\n",
        "\n",
        "print(f\"Files extracted to {extraction_path}\")"
      ],
      "metadata": {
        "colab": {
          "base_uri": "https://localhost:8080/",
          "height": 211
        },
        "id": "VahQrCKMaxEC",
        "outputId": "788771cb-748a-499c-f78b-2448f6196de3"
      },
      "execution_count": null,
      "outputs": [
        {
          "output_type": "error",
          "ename": "NameError",
          "evalue": "name 'zipfile' is not defined",
          "traceback": [
            "\u001b[0;31m---------------------------------------------------------------------------\u001b[0m",
            "\u001b[0;31mNameError\u001b[0m                                 Traceback (most recent call last)",
            "\u001b[0;32m<ipython-input-3-9a48bf7f1610>\u001b[0m in \u001b[0;36m<cell line: 8>\u001b[0;34m()\u001b[0m\n\u001b[1;32m      6\u001b[0m \u001b[0;34m\u001b[0m\u001b[0m\n\u001b[1;32m      7\u001b[0m \u001b[0;31m# Extract the zip file to the specified path\u001b[0m\u001b[0;34m\u001b[0m\u001b[0;34m\u001b[0m\u001b[0m\n\u001b[0;32m----> 8\u001b[0;31m \u001b[0;32mwith\u001b[0m \u001b[0mzipfile\u001b[0m\u001b[0;34m.\u001b[0m\u001b[0mZipFile\u001b[0m\u001b[0;34m(\u001b[0m\u001b[0mstanford_cars_real_path\u001b[0m\u001b[0;34m,\u001b[0m \u001b[0;34m'r'\u001b[0m\u001b[0;34m)\u001b[0m \u001b[0;32mas\u001b[0m \u001b[0mzip_ref\u001b[0m\u001b[0;34m:\u001b[0m\u001b[0;34m\u001b[0m\u001b[0;34m\u001b[0m\u001b[0m\n\u001b[0m\u001b[1;32m      9\u001b[0m     \u001b[0mzip_ref\u001b[0m\u001b[0;34m.\u001b[0m\u001b[0mextractall\u001b[0m\u001b[0;34m(\u001b[0m\u001b[0mextraction_path\u001b[0m\u001b[0;34m)\u001b[0m\u001b[0;34m\u001b[0m\u001b[0;34m\u001b[0m\u001b[0m\n\u001b[1;32m     10\u001b[0m \u001b[0;34m\u001b[0m\u001b[0m\n",
            "\u001b[0;31mNameError\u001b[0m: name 'zipfile' is not defined"
          ]
        }
      ]
    },
    {
      "cell_type": "code",
      "source": [
        "all_real_cars_path = '/content/stanford-cars-real/stanford-cars-real-train-fewshot'\n",
        "\n",
        "#for car_folder in sorted(os.listdir(all_cars_path)):\n",
        "#  print(car_folder)\n",
        "\n",
        "print(\"We have\", len(sorted(os.listdir(all_real_cars_path))), \"models of cars\")"
      ],
      "metadata": {
        "colab": {
          "base_uri": "https://localhost:8080/",
          "height": 176
        },
        "id": "krjUF0imkdI0",
        "outputId": "5f5e4684-7f25-4dff-c900-db8949bf0cac"
      },
      "execution_count": null,
      "outputs": [
        {
          "output_type": "error",
          "ename": "NameError",
          "evalue": "name 'os' is not defined",
          "traceback": [
            "\u001b[0;31m---------------------------------------------------------------------------\u001b[0m",
            "\u001b[0;31mNameError\u001b[0m                                 Traceback (most recent call last)",
            "\u001b[0;32m<ipython-input-4-b0845073e337>\u001b[0m in \u001b[0;36m<cell line: 6>\u001b[0;34m()\u001b[0m\n\u001b[1;32m      4\u001b[0m \u001b[0;31m#  print(car_folder)\u001b[0m\u001b[0;34m\u001b[0m\u001b[0;34m\u001b[0m\u001b[0m\n\u001b[1;32m      5\u001b[0m \u001b[0;34m\u001b[0m\u001b[0m\n\u001b[0;32m----> 6\u001b[0;31m \u001b[0mprint\u001b[0m\u001b[0;34m(\u001b[0m\u001b[0;34m\"We have\"\u001b[0m\u001b[0;34m,\u001b[0m \u001b[0mlen\u001b[0m\u001b[0;34m(\u001b[0m\u001b[0msorted\u001b[0m\u001b[0;34m(\u001b[0m\u001b[0mos\u001b[0m\u001b[0;34m.\u001b[0m\u001b[0mlistdir\u001b[0m\u001b[0;34m(\u001b[0m\u001b[0mall_real_cars_path\u001b[0m\u001b[0;34m)\u001b[0m\u001b[0;34m)\u001b[0m\u001b[0;34m)\u001b[0m\u001b[0;34m,\u001b[0m \u001b[0;34m\"models of cars\"\u001b[0m\u001b[0;34m)\u001b[0m\u001b[0;34m\u001b[0m\u001b[0;34m\u001b[0m\u001b[0m\n\u001b[0m",
            "\u001b[0;31mNameError\u001b[0m: name 'os' is not defined"
          ]
        }
      ]
    },
    {
      "cell_type": "code",
      "source": [
        "import random\n",
        "try:\n",
        "    # Load the dataset\n",
        "    dataset_real_cars = load_dataset(all_real_cars_path, split=\"train\")\n",
        "    print(\"Dataset loaded successfully.\")\n",
        "\n",
        "    # Convert the dataset to a list\n",
        "    dataset_real_cars = list(dataset_real_cars)\n",
        "\n",
        "    # Shuffle the dataset\n",
        "    random.seed(42)  # Set seed\n",
        "    random.shuffle(dataset_real_cars)\n",
        "\n",
        "    # Split into train and test sets\n",
        "    test_set_size = 200\n",
        "    test_set_real = dataset_real_cars[:test_set_size]  # First 200 images\n",
        "    train_set_real = dataset_real_cars[test_set_size:] # Remaining images\n",
        "\n",
        "    # Print sizes\n",
        "    print(f\"Training set size: {len(train_set)}\")\n",
        "    print(f\"Test set size: {len(test_set)}\")\n",
        "except Exception as e:\n",
        "    print(f\"Error loading dataset: {e}\")"
      ],
      "metadata": {
        "colab": {
          "base_uri": "https://localhost:8080/"
        },
        "id": "CDiYcANsX4EO",
        "outputId": "c58a9f35-768a-4b50-d35f-1475be909595"
      },
      "execution_count": null,
      "outputs": [
        {
          "output_type": "stream",
          "name": "stdout",
          "text": [
            "Error loading dataset: name 'load_dataset' is not defined\n"
          ]
        }
      ]
    },
    {
      "cell_type": "code",
      "source": [
        "# Function to resize and crop images\n",
        "def resize_and_crop(image, image_size):\n",
        "    # Resize to the given image size and crop (if needed)\n",
        "    image = cv2.resize(image, (image_size, image_size))\n",
        "    return image\n",
        "\n",
        "# Number of examples to extract\n",
        "image_size = 320\n",
        "num_examples = len(train_set_real)\n",
        "\n",
        "# Extract and process images\n",
        "images = []\n",
        "for example in itertools.islice(train_set_real, num_examples):\n",
        "    # Assuming the 'image' field holds the image data in bytes\n",
        "    image = example['image']\n",
        "    image = np.array(image)\n",
        "    image = resize_and_crop(image, image_size)\n",
        "\n",
        "    # Check if all images have the same shape\n",
        "    if images and image.shape != images[0].shape:\n",
        "        print(f\"Skipping image due to inconsistent shape: {image.shape}\")\n",
        "        num_examples -=1\n",
        "        continue\n",
        "\n",
        "    images.append(image)\n",
        "\n",
        "images = np.array(images)"
      ],
      "metadata": {
        "colab": {
          "base_uri": "https://localhost:8080/"
        },
        "id": "5eBtgKemuq3P",
        "outputId": "fce7dda3-695f-4344-c887-998dae2bda34"
      },
      "execution_count": null,
      "outputs": [
        {
          "output_type": "stream",
          "name": "stdout",
          "text": [
            "Skipping image due to inconsistent shape: (320, 320)\n",
            "Skipping image due to inconsistent shape: (320, 320)\n",
            "Skipping image due to inconsistent shape: (320, 320)\n",
            "Skipping image due to inconsistent shape: (320, 320)\n",
            "Skipping image due to inconsistent shape: (320, 320)\n",
            "Skipping image due to inconsistent shape: (320, 320)\n",
            "Skipping image due to inconsistent shape: (320, 320)\n"
          ]
        }
      ]
    },
    {
      "cell_type": "code",
      "source": [
        "images = (images.astype(np.float32) / 255.0) * 2 - 1  # Scale and shift to [-1, 1]."
      ],
      "metadata": {
        "id": "Ru714rm_vVe4"
      },
      "execution_count": null,
      "outputs": []
    },
    {
      "cell_type": "code",
      "source": [
        "def calc_mean_log_rapsd(x):\n",
        "  spectra = []\n",
        "  for k in range(num_examples):\n",
        "    rapsd, frequencies = spectral.rapsd(x[k, ...], fft_method=np.fft, return_freq=True)\n",
        "    spectra.append(rapsd)\n",
        "\n",
        "  mean_log_rapsd = np.mean(np.array([np.log(s + 1e-30) for s in spectra]), axis=0)\n",
        "  return mean_log_rapsd, frequencies"
      ],
      "metadata": {
        "id": "TiCih9Gxb0cq"
      },
      "execution_count": null,
      "outputs": []
    },
    {
      "cell_type": "code",
      "source": [
        "# Plotting the log RAPSDs\n",
        "mean_log_rapsd, frequencies = calc_mean_log_rapsd(images[..., 1])\n",
        "\n",
        "# Getting the alpha exponent of powerlaw\n",
        "log_frequencies = np.log(frequencies[1:])\n",
        "equally_spaced_log_frequencies = np.linspace(log_frequencies[0], log_frequencies[-1], 1000)\n",
        "interpolated_rapsd = np.interp(equally_spaced_log_frequencies, log_frequencies, mean_log_rapsd[1:])\n",
        "\n",
        "m, b = np.polyfit(equally_spaced_log_frequencies, interpolated_rapsd, 1)\n",
        "linear_fit = m * equally_spaced_log_frequencies + b\n",
        "\n",
        "# Residuals\n",
        "mse = np.mean((linear_fit - interpolated_rapsd)**2)\n",
        "print(mse)\n",
        "residuals = np.sqrt(mse)\n",
        "\n",
        "# Plotting\n",
        "\n",
        "plt.figure(figsize=(8, 4))\n",
        "plt.title(\"Average RAPSDs of all real images of the Stanford cars dataset\", fontsize = 18)\n",
        "plt.plot(frequencies[1:], np.exp(mean_log_rapsd)[1:], c='red', marker='o', markersize=3)\n",
        "plt.plot(np.exp(equally_spaced_log_frequencies), np.exp(linear_fit), label=f'$\\\\alpha$ = {m:.2f})', linestyle='--')\n",
        "plt.xscale('log')\n",
        "plt.yscale('log')\n",
        "plt.legend()\n",
        "plt.grid(alpha = 0.5)\n",
        "plt.xlabel('Frequency', fontsize = 12)\n",
        "plt.ylabel('Power', fontsize = 12);"
      ],
      "metadata": {
        "colab": {
          "base_uri": "https://localhost:8080/",
          "height": 441
        },
        "id": "kZ2K2MLfvbjY",
        "outputId": "8c306b41-4f69-4cce-830d-18d86c1684d5"
      },
      "execution_count": null,
      "outputs": [
        {
          "output_type": "stream",
          "name": "stdout",
          "text": [
            "0.04579200422207059\n"
          ]
        },
        {
          "output_type": "display_data",
          "data": {
            "text/plain": [
              "<Figure size 800x400 with 1 Axes>"
            ],
            "image/png": "[encoded data removed]"
          },
          "metadata": {}
        }
      ]
    },
    {
      "cell_type": "code",
      "source": [
        "# Plot residuals\n",
        "plt.figure(figsize=(8, 4))\n",
        "residuals = linear_fit - interpolated_rapsd\n",
        "plt.scatter(np.exp(equally_spaced_log_frequencies), residuals, color='purple', label = \"Residuals\", s=10)\n",
        "plt.axhline(0, color='black', linestyle='--')\n",
        "plt.xscale('log')\n",
        "plt.xlabel('Frequency', fontsize = 12)\n",
        "plt.ylabel('Residuals', fontsize = 12)\n",
        "plt.title(\"Residuals of real images - Stanford cars dataset\", fontsize = 18)\n",
        "plt.xlim(-0.001, 0.52)\n",
        "plt.ylim(-0.4,1.24)\n",
        "plt.legend()\n",
        "plt.grid(alpha = 0.5)\n",
        "plt.show()"
      ],
      "metadata": {
        "colab": {
          "base_uri": "https://localhost:8080/",
          "height": 459
        },
        "id": "vfrJSIudvpw4",
        "outputId": "696920c1-624c-41ef-a471-387559bb6794"
      },
      "execution_count": null,
      "outputs": [
        {
          "output_type": "stream",
          "name": "stderr",
          "text": [
            "<ipython-input-20-3e52a21ffb0b>:10: UserWarning: Attempt to set non-positive xlim on a log-scaled axis will be ignored.\n",
            "  plt.xlim(-0.001, 0.52)\n"
          ]
        },
        {
          "output_type": "display_data",
          "data": {
            "text/plain": [
              "<Figure size 800x400 with 1 Axes>"
            ],
            "image/png": "[encoded data removed]"
          },
          "metadata": {}
        }
      ]
    },
    {
      "cell_type": "markdown",
      "source": [
        "-----------------"
      ],
      "metadata": {
        "id": "HO-YPKR1cxoI"
      }
    },
    {
      "cell_type": "markdown",
      "source": [
        "##**Classifying the test images using residuals threshold**"
      ],
      "metadata": {
        "id": "MMN1itcgczQQ"
      }
    },
    {
      "cell_type": "code",
      "source": [
        "# Defining path for the zip folder of synthetic images\n",
        "stanford_cars_synthetic_path = '/content/drive/My Drive/Colab Notebooks/Stanford_Cars/stanford-cars-synthetic-classwise-16.zip'\n",
        "\n",
        "# Define path we store it in\n",
        "extraction_path = '/content/stanford-cars-synthetic'\n",
        "\n",
        "# Extract the zip file to the specified path\n",
        "with zipfile.ZipFile(stanford_cars_synthetic_path, 'r') as zip_ref:\n",
        "    zip_ref.extractall(extraction_path)\n",
        "\n",
        "print(f\"Files extracted to {extraction_path}\")"
      ],
      "metadata": {
        "colab": {
          "base_uri": "https://localhost:8080/"
        },
        "id": "Va4n69qar3IC",
        "outputId": "4768abec-6e92-4d92-fc2d-a8b8025c6f9a"
      },
      "execution_count": null,
      "outputs": [
        {
          "output_type": "stream",
          "name": "stdout",
          "text": [
            "Files extracted to /content/stanford-cars-synthetic\n"
          ]
        }
      ]
    },
    {
      "cell_type": "code",
      "source": [
        "all_cars_path = '/content/stanford-cars-synthetic/stanford-cars-synthetic-classwise-16/synthetic_16'\n",
        "\n",
        "#for car_folder in sorted(os.listdir(all_cars_path)):\n",
        "#  print(car_folder)\n",
        "\n",
        "print(\"We have\", len(sorted(os.listdir(all_cars_path))), \"models of cars\")"
      ],
      "metadata": {
        "colab": {
          "base_uri": "https://localhost:8080/"
        },
        "id": "xj3CYZu6r6qq",
        "outputId": "7ecfab64-c0f2-40d9-c373-d66a6d415932"
      },
      "execution_count": null,
      "outputs": [
        {
          "output_type": "stream",
          "name": "stdout",
          "text": [
            "We have 197 models of cars\n"
          ]
        }
      ]
    },
    {
      "cell_type": "code",
      "source": [
        "try:\n",
        "    # Load the dataset\n",
        "    dataset_synth_cars = load_dataset(all_cars_path, split=\"train\")\n",
        "    print(\"Dataset loaded successfully.\")\n",
        "\n",
        "    # Convert the dataset to a list if it isn't already\n",
        "    dataset_synth_cars = list(dataset_synth_cars)\n",
        "\n",
        "    # Shuffle the dataset\n",
        "    random.seed(42)  # Set seed for reproducibility\n",
        "    random.shuffle(dataset_synth_cars)\n",
        "\n",
        "    # Split into train and test sets\n",
        "    test_set_size = 200\n",
        "    test_set_fake = dataset_synth_cars[:test_set_size]  # First 200 images\n",
        "    train_set_fake = dataset_synth_cars[test_set_size:] # Remaining images\n",
        "\n",
        "    # Print sizes\n",
        "    print(f\"Training set size: {len(train_set_fake)}\")\n",
        "    print(f\"Test set size: {len(test_set_fake)}\")\n",
        "except Exception as e:\n",
        "    print(f\"Error loading dataset: {e}\")"
      ],
      "metadata": {
        "colab": {
          "base_uri": "https://localhost:8080/",
          "height": 165,
          "referenced_widgets": [
            "48e937e8008240bdbd19f01bb0b0c45c",
            "2031ccc6886847ffa58915e7b88c0ac6",
            "fa505ccfb14b4f2fb08ef902a5178c59",
            "820a8297eb3c4d64bc931e1a9e3713d3",
            "68f48e5b536c46b7ba5ea9a9c1728c93",
            "daa65fff7e7747589c26fd6fac2dce6a",
            "f611ec85da804aa188ce089d86cecbd9",
            "514c5a72d705429bb10643e86bd585b3",
            "98421394b9a34ddba5daef785045b552",
            "18eaecbca0204c09b46a0403cf1c119d",
            "c50c1e26cf684ac88d43e1fe5161089b",
            "5702ec2e66a0415e93c5e1f6d684c9fb",
            "6ba337b990ae4b9a8e8314e00b736528",
            "c610ff973d954f3c9852c7708e66a699",
            "ccf9195f7aa347d28bdee47d905ce94a",
            "bb7a459bcdc7449b9dba01808a7c4b8b",
            "5c21603557d14438945cafc53be37ab6",
            "4a7ee841ce4d423d9235d2543d15a780",
            "3eb1a932c2634510b709c11f0ff57da1",
            "8afbf9331958497c9ac3353580ba9e7b",
            "dae0d55452984407aa166cc203fdb2ff",
            "7a9da991986d4020ac78071823b5ac4f",
            "b9af503389434793996098b3b2401284",
            "b45c37b5e2784b9a846e66c0ee0c7349",
            "752e43fa3382480f8d9672922a9438e9",
            "f51e8d25494b402b923be77c99ac86b8",
            "ddab8b78f48247caad55d9d9f142bc44",
            "8aa4a1bb76a242d8b560d4412bf3bfac",
            "13063208d9584ad8aa9d78f2c04d94b9",
            "67bc322d3d6c4d68839c70271fb19da0",
            "7a98578177864eb4a24853b646b496d6",
            "887427cf73dc4208b5691cb03bb999c5",
            "9a53f80633f64e428434e59352540603"
          ]
        },
        "id": "ErPOG58RsCit",
        "outputId": "957bd97b-747e-4670-ac67-4b6e1314cd01"
      },
      "execution_count": null,
      "outputs": [
        {
          "output_type": "display_data",
          "data": {
            "text/plain": [
              "Resolving data files:   0%|          | 0/3120 [00:00<?, ?it/s]"
            ],
            "application/vnd.jupyter.widget-view+json": {
              "version_major": 2,
              "version_minor": 0,
              "model_id": "48e937e8008240bdbd19f01bb0b0c45c"
            }
          },
          "metadata": {}
        },
        {
          "output_type": "display_data",
          "data": {
            "text/plain": [
              "Downloading data:   0%|          | 0/3120 [00:00<?, ?files/s]"
            ],
            "application/vnd.jupyter.widget-view+json": {
              "version_major": 2,
              "version_minor": 0,
              "model_id": "5702ec2e66a0415e93c5e1f6d684c9fb"
            }
          },
          "metadata": {}
        },
        {
          "output_type": "display_data",
          "data": {
            "text/plain": [
              "Generating train split: 0 examples [00:00, ? examples/s]"
            ],
            "application/vnd.jupyter.widget-view+json": {
              "version_major": 2,
              "version_minor": 0,
              "model_id": "b9af503389434793996098b3b2401284"
            }
          },
          "metadata": {}
        },
        {
          "output_type": "stream",
          "name": "stdout",
          "text": [
            "Dataset loaded successfully.\n",
            "Training set size: 2920\n",
            "Test set size: 200\n"
          ]
        }
      ]
    },
    {
      "cell_type": "code",
      "source": [
        "# Defining path for the zip folder of real images\n",
        "stanford_cars_real_path = '/content/drive/My Drive/Colab Notebooks/Stanford_Cars/stanford-cars-real-train-fewshot.zip'\n",
        "\n",
        "# Define path we store it in\n",
        "extraction_path = '/content/stanford-cars-real'\n",
        "\n",
        "# Extract the zip file to the specified path\n",
        "with zipfile.ZipFile(stanford_cars_real_path, 'r') as zip_ref:\n",
        "    zip_ref.extractall(extraction_path)\n",
        "\n",
        "print(f\"Files extracted to {extraction_path}\")"
      ],
      "metadata": {
        "colab": {
          "base_uri": "https://localhost:8080/"
        },
        "id": "azvbYgLcsJi2",
        "outputId": "274cdcd7-f1cf-464f-acdd-b3dfc720aaa1"
      },
      "execution_count": null,
      "outputs": [
        {
          "output_type": "stream",
          "name": "stdout",
          "text": [
            "Files extracted to /content/stanford-cars-real\n"
          ]
        }
      ]
    },
    {
      "cell_type": "code",
      "source": [
        "all_real_cars_path = '/content/stanford-cars-real/stanford-cars-real-train-fewshot'\n",
        "\n",
        "#for car_folder in sorted(os.listdir(all_cars_path)):\n",
        "#  print(car_folder)\n",
        "\n",
        "print(\"We have\", len(sorted(os.listdir(all_real_cars_path))), \"models of cars\")"
      ],
      "metadata": {
        "colab": {
          "base_uri": "https://localhost:8080/"
        },
        "id": "e318R1pPsKcx",
        "outputId": "c56feb73-0df9-410a-a7a1-c7814880d36f"
      },
      "execution_count": null,
      "outputs": [
        {
          "output_type": "stream",
          "name": "stdout",
          "text": [
            "We have 197 models of cars\n"
          ]
        }
      ]
    },
    {
      "cell_type": "code",
      "source": [
        "import random\n",
        "try:\n",
        "    # Load the dataset\n",
        "    dataset_real_cars = load_dataset(all_real_cars_path, split=\"train\")\n",
        "    print(\"Dataset loaded successfully.\")\n",
        "\n",
        "    # Convert the dataset to a list\n",
        "    dataset_real_cars = list(dataset_real_cars)\n",
        "\n",
        "    # Shuffle the dataset\n",
        "    random.seed(42)  # Set seed\n",
        "    random.shuffle(dataset_real_cars)\n",
        "\n",
        "    # Split into train and test sets\n",
        "    test_set_size = 200\n",
        "    test_set_real = dataset_real_cars[:test_set_size]  # First 200 images\n",
        "    train_set_real = dataset_real_cars[test_set_size:] # Remaining images\n",
        "\n",
        "    # Print sizes\n",
        "    print(f\"Training set size: {len(train_set)}\")\n",
        "    print(f\"Test set size: {len(test_set)}\")\n",
        "except Exception as e:\n",
        "    print(f\"Error loading dataset: {e}\")"
      ],
      "metadata": {
        "colab": {
          "base_uri": "https://localhost:8080/",
          "height": 148,
          "referenced_widgets": [
            "d77bfedbb4544ee2942365149af46a8f",
            "09c25980320740ad9c3c0c0afb929ec7",
            "ef3c38c0f21b436892b2877b88bb82ce",
            "cd47d57739eb4d4fb939460a33210ee2",
            "5116541d56da41388532f8f333c74bfc",
            "608f4a3e296e4bdfae47a9d758db77b0",
            "8b470e1275764256a8f2b4345ace5352",
            "3fe7622b0f8d4b938e2b01466e1dbe8e",
            "846b691e173040dcb21472d16eb17bd0",
            "4bebc97bb1f34a88a8546c809c0757a1",
            "d37d41dc572e4904b6e0d914104a025b",
            "3077823f611a45e4b348b4f927d5421e",
            "8a715d677a4a4ac0b57025048838a1b2",
            "a8d7e917fb61462d9a26311e84c964e9",
            "a2027615946a41e6b5d10c247288dd27",
            "5144f7592c5542ddab9982a0b281928d",
            "6dc0e5bdf8224064b56decb6eda918a3",
            "9f340823ed5b462fb3b852d21c61b79a",
            "6dbebeb2d4464fc7a87e0710f0e87936",
            "6c63664346124d1b9b4ffca30cd28eca",
            "659015ac432341e898dcbd6a68b02ae3",
            "2d011f8cf3c04451b9ec42d54238c044",
            "ed98d87af4e34ce0bd126b720e2cd2ae",
            "374f59e372344ee49225de25029445be",
            "56ce23f0e2654e289858ba6e365bf8e9",
            "24885aae3a2548e7af1d59a10bd03337",
            "df6ddb9dcaaa42a09761d6af96b4216d",
            "339efac3a9b24e62b800851ee41d3c77",
            "0c60a77bbd53457da3e81cccdc9afa38",
            "98a34eae57c6401c90b92dd6e9bcec56",
            "abe6693d4a154c1ba4e304f7b6fbd447",
            "4f1eb9375f4b41e196045d6c8ae12ea9",
            "1120a70974994094bdb3dc80b826757b"
          ]
        },
        "id": "XRQLw7mrt8Oj",
        "outputId": "a8387209-5f49-4226-a20b-2a0a2b145f2b"
      },
      "execution_count": null,
      "outputs": [
        {
          "output_type": "display_data",
          "data": {
            "text/plain": [
              "Resolving data files:   0%|          | 0/3136 [00:00<?, ?it/s]"
            ],
            "application/vnd.jupyter.widget-view+json": {
              "version_major": 2,
              "version_minor": 0,
              "model_id": "d77bfedbb4544ee2942365149af46a8f"
            }
          },
          "metadata": {}
        },
        {
          "output_type": "display_data",
          "data": {
            "text/plain": [
              "Downloading data:   0%|          | 0/3136 [00:00<?, ?files/s]"
            ],
            "application/vnd.jupyter.widget-view+json": {
              "version_major": 2,
              "version_minor": 0,
              "model_id": "3077823f611a45e4b348b4f927d5421e"
            }
          },
          "metadata": {}
        },
        {
          "output_type": "display_data",
          "data": {
            "text/plain": [
              "Generating train split: 0 examples [00:00, ? examples/s]"
            ],
            "application/vnd.jupyter.widget-view+json": {
              "version_major": 2,
              "version_minor": 0,
              "model_id": "ed98d87af4e34ce0bd126b720e2cd2ae"
            }
          },
          "metadata": {}
        },
        {
          "output_type": "stream",
          "name": "stdout",
          "text": [
            "Dataset loaded successfully.\n",
            "Error loading dataset: name 'train_set' is not defined\n"
          ]
        }
      ]
    },
    {
      "cell_type": "code",
      "source": [
        "# Function to resize and crop images\n",
        "def resize_and_crop(image, image_size):\n",
        "    # Resize to the given image size and crop (if needed)\n",
        "    image = cv2.resize(image, (image_size, image_size))\n",
        "    return image\n",
        "\n",
        "# Number of examples to extract\n",
        "image_size = 320\n",
        "num_examples_fake = len(test_set_fake)\n",
        "num_examples_real = len(test_set_real)\n",
        "\n",
        "# Extract and process images for fake images\n",
        "images_fake = []\n",
        "for example in itertools.islice(test_set_fake, num_examples_fake):\n",
        "    # Assuming the 'image' field holds the image data in bytes\n",
        "    image = example['image']\n",
        "    image = np.array(image)\n",
        "    image = resize_and_crop(image, image_size)\n",
        "\n",
        "    # Check if all images have the same shape\n",
        "    if images_fake and image.shape != images_fake[0].shape:\n",
        "        print(f\"Skipping image due to inconsistent shape: {image.shape}\")\n",
        "        num_examples_fake -= 1\n",
        "        continue\n",
        "\n",
        "    images_fake.append(image)\n",
        "\n",
        "images_fake = np.array(images_fake)\n",
        "\n",
        "# Extract and process images for real images\n",
        "images_real = []\n",
        "for example in itertools.islice(test_set_real, num_examples_real):\n",
        "    # Assuming the 'image' field holds the image data in bytes\n",
        "    image = example['image']\n",
        "    image = np.array(image)\n",
        "    image = resize_and_crop(image, image_size)\n",
        "\n",
        "    # Check if all images have the same shape\n",
        "    if images_real and image.shape != images_real[0].shape:\n",
        "        print(f\"Skipping image due to inconsistent shape: {image.shape}\")\n",
        "        num_examples_real -= 1\n",
        "        continue\n",
        "\n",
        "    images_real.append(image)\n",
        "\n",
        "images_real = np.array(images_real)"
      ],
      "metadata": {
        "colab": {
          "base_uri": "https://localhost:8080/"
        },
        "id": "WSK0iDvicytr",
        "outputId": "713d16f2-5206-4d60-fe6c-3e22bb07a86c"
      },
      "execution_count": null,
      "outputs": [
        {
          "output_type": "stream",
          "name": "stdout",
          "text": [
            "Skipping image due to inconsistent shape: (320, 320)\n"
          ]
        }
      ]
    },
    {
      "cell_type": "code",
      "source": [
        "# Scale and shift the images to [-1, 1]\n",
        "images_fake = (images_fake.astype(np.float32) / 255.0) * 2 - 1\n",
        "images_real = (images_real.astype(np.float32) / 255.0) * 2 - 1"
      ],
      "metadata": {
        "id": "lfjSded9uPQ1"
      },
      "execution_count": null,
      "outputs": []
    },
    {
      "cell_type": "markdown",
      "source": [
        "**Classifying the synthetic images**"
      ],
      "metadata": {
        "id": "9ks6bu6UhxFK"
      }
    },
    {
      "cell_type": "code",
      "source": [
        "fake_images_classification = []\n",
        "\n",
        "for k in range(num_examples_fake):\n",
        "    # Compute the RAPSD for the current image\n",
        "    rapsd, frequencies = spectral.rapsd(images_fake[k, ..., 1], fft_method=np.fft, return_freq=True)\n",
        "\n",
        "    # Log-transform the RAPSD values\n",
        "    log_rapsd = np.log(rapsd + 1e-30)\n",
        "\n",
        "    # Log-transform the frequencies\n",
        "    log_frequencies = np.log(frequencies[1:])\n",
        "\n",
        "    # Create equally spaced log frequencies for interpolation\n",
        "    equally_spaced_log_frequencies = np.linspace(log_frequencies[0], log_frequencies[-1], 1000)\n",
        "\n",
        "    # Interpolate the log_rapsd to the equally spaced log frequencies\n",
        "    interpolated_rapsd = np.interp(equally_spaced_log_frequencies, log_frequencies, log_rapsd[1:])\n",
        "\n",
        "    # Perform linear fitting on the interpolated log_rapsd\n",
        "    m, b = np.polyfit(equally_spaced_log_frequencies, interpolated_rapsd, 1)\n",
        "    linear_fit = m * equally_spaced_log_frequencies + b\n",
        "\n",
        "    residuals = interpolated_rapsd - linear_fit\n",
        "\n",
        "    min_residual = np.min(residuals)\n",
        "    max_residual = np.max(residuals)\n",
        "\n",
        "    # Classify the image based on the residuals\n",
        "    if max_residual > 0.65:       #min_residual < -0.3 and\n",
        "        fake_images_classification.append(0)  # Fake image classified as 0\n",
        "    else:\n",
        "        fake_images_classification.append(1)  # Real image classified as 1"
      ],
      "metadata": {
        "id": "7MPu6uYO11Ls"
      },
      "execution_count": null,
      "outputs": []
    },
    {
      "cell_type": "code",
      "source": [
        "(len(fake_images_classification)-sum(fake_images_classification))/len(fake_images_classification)"
      ],
      "metadata": {
        "colab": {
          "base_uri": "https://localhost:8080/"
        },
        "id": "wiEdJfij3cCs",
        "outputId": "a9609aae-ea7b-4ffd-e599-087d30c5bddb"
      },
      "execution_count": null,
      "outputs": [
        {
          "output_type": "execute_result",
          "data": {
            "text/plain": [
              "0.86"
            ]
          },
          "metadata": {},
          "execution_count": 161
        }
      ]
    },
    {
      "cell_type": "markdown",
      "source": [
        "**Classifying the real images**"
      ],
      "metadata": {
        "id": "SWyoXRpJh9F0"
      }
    },
    {
      "cell_type": "code",
      "source": [
        "real_images_classification = []\n",
        "\n",
        "for k in range(num_examples_real):\n",
        "    # Compute the RAPSD for the current image\n",
        "    rapsd, frequencies = spectral.rapsd(images_real[k, ..., 1], fft_method=np.fft, return_freq=True)\n",
        "\n",
        "    # Log-transform the RAPSD values\n",
        "    log_rapsd = np.log(rapsd + 1e-30)\n",
        "\n",
        "    # Log-transform the frequencies\n",
        "    log_frequencies = np.log(frequencies[1:])\n",
        "\n",
        "    # Create equally spaced log frequencies for interpolation\n",
        "    equally_spaced_log_frequencies = np.linspace(log_frequencies[0], log_frequencies[-1], 1000)\n",
        "\n",
        "    # Interpolate the log_rapsd to the equally spaced log frequencies\n",
        "    interpolated_rapsd = np.interp(equally_spaced_log_frequencies, log_frequencies, log_rapsd[1:])\n",
        "\n",
        "    # Perform linear fitting on the interpolated log_rapsd\n",
        "    m, b = np.polyfit(equally_spaced_log_frequencies, interpolated_rapsd, 1)\n",
        "    linear_fit = m * equally_spaced_log_frequencies + b\n",
        "\n",
        "    residuals = interpolated_rapsd - linear_fit\n",
        "\n",
        "    min_residual = np.min(residuals)\n",
        "    max_residual = np.max(residuals)\n",
        "\n",
        "    # Classify the image based on the residuals\n",
        "    if max_residual > 0.65 :\n",
        "        real_images_classification.append(0)  # Fake image classified as 0\n",
        "    else:\n",
        "        real_images_classification.append(1)  # Real image classified as 1"
      ],
      "metadata": {
        "id": "la1EfsML5laX"
      },
      "execution_count": null,
      "outputs": []
    },
    {
      "cell_type": "code",
      "source": [
        "sum(real_images_classification)/len(real_images_classification)"
      ],
      "metadata": {
        "colab": {
          "base_uri": "https://localhost:8080/"
        },
        "id": "fJ6ypUe08mXL",
        "outputId": "c8c98620-3182-43d0-c027-52e2b2420aa2"
      },
      "execution_count": null,
      "outputs": [
        {
          "output_type": "execute_result",
          "data": {
            "text/plain": [
              "0.33668341708542715"
            ]
          },
          "metadata": {},
          "execution_count": 157
        }
      ]
    }
  ]
}